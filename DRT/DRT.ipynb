{
 "cells": [
  {
   "cell_type": "markdown",
   "id": "7c9be181-4ebb-4e6d-bbd5-b0486889fed4",
   "metadata": {},
   "source": [
    "## Importing modules"
   ]
  },
  {
   "cell_type": "code",
   "execution_count": 1,
   "id": "8d47dec7-6f09-4281-8ceb-615bf785ab69",
   "metadata": {},
   "outputs": [],
   "source": [
    "# import sys\n",
    "# !conda install --yes --prefix {sys.prefix} \n",
    "import numpy as np\n",
    "import pandas as pd\n",
    "import sklearn\n",
    "from sklearn.datasets import load_iris\n",
    "from sklearn.model_selection import train_test_split\n",
    "import random\n",
    "import math\n",
    "import requests\n",
    "import io\n",
    "import matplotlib.pyplot as plt\n",
    "from sklearn.preprocessing import StandardScaler\n",
    "from sklearn.discriminant_analysis import LinearDiscriminantAnalysis as LDA\n",
    "from sklearn.decomposition import PCA\n",
    "from sklearn.manifold import TSNE\n",
    "from sklearn.neighbors import KNeighborsClassifier\n",
    "%matplotlib inline"
   ]
  },
  {
   "cell_type": "markdown",
   "id": "a991b546-7ec5-4e95-a6b2-413958324114",
   "metadata": {},
   "source": [
    "# Problem 1"
   ]
  },
  {
   "cell_type": "markdown",
   "id": "3e6b1095-8358-4833-9f80-dd47069fa48b",
   "metadata": {},
   "source": [
    "### Iris Dataset"
   ]
  },
  {
   "cell_type": "code",
   "execution_count": 2,
   "id": "e47614b6-69f8-4775-b45c-cf4eb946afad",
   "metadata": {},
   "outputs": [],
   "source": [
    "iris= load_iris()\n",
    "df_iris = pd.DataFrame(data= np.c_[iris['data'], iris['target']],columns= iris['feature_names'] + ['Species'])"
   ]
  },
  {
   "cell_type": "markdown",
   "id": "c989074f-6958-405f-ba82-53c8b7d55855",
   "metadata": {},
   "source": [
    "## Method 1"
   ]
  },
  {
   "cell_type": "code",
   "execution_count": 3,
   "id": "2ae82726-1354-426f-999b-ad9829a52f93",
   "metadata": {},
   "outputs": [
    {
     "data": {
      "text/plain": [
       "[<matplotlib.lines.Line2D at 0x22b72b82fd0>]"
      ]
     },
     "execution_count": 3,
     "metadata": {},
     "output_type": "execute_result"
    },
    {
     "data": {
      "image/png": "[encoded data removed]",
      "text/plain": [
       "<Figure size 640x480 with 1 Axes>"
      ]
     },
     "metadata": {
      "needs_background": "light"
     },
     "output_type": "display_data"
    }
   ],
   "source": [
    "# taking and plotting sepal width and petal length\n",
    "# fig = plt.figure()\n",
    "# ax1 = fig.add_subplot(111)\n",
    "# ax1.scatter(df_iris.iloc[:,1],df_iris.iloc[:,2],s=50,c=df_iris.iloc[:,4],cmap=)\n",
    "plt.figure(figsize=(8, 6), dpi=80)\n",
    "groups = df_iris.groupby('Species')\n",
    "for name, group in groups:\n",
    "    plt.plot(group['sepal width (cm)'], group['petal length (cm)'], marker='o', linestyle='', markersize=5, label=name)\n",
    "plt.xlabel('Sepal Width')\n",
    "plt.ylabel('Petal Length')\n",
    "plt.legend()\n",
    "plt.title('Iris dataset plot with 2 features')\n",
    "x = np.linspace(2,4.6,100)\n",
    "y = -0.15+x*1\n",
    "plt.plot(x, y, '-r')\n",
    "x = np.linspace(2,4.6,100)\n",
    "y = 4.9+x*0.001\n",
    "plt.plot(x, y, '-r')"
   ]
  },
  {
   "cell_type": "markdown",
   "id": "cbdc68a9-c024-4556-8985-22271bdcf502",
   "metadata": {},
   "source": [
    "## Method 2"
   ]
  },
  {
   "cell_type": "markdown",
   "id": "eced21de-9f8f-46a8-b8b2-dea0f04b7294",
   "metadata": {},
   "source": [
    "### Split Iris data"
   ]
  },
  {
   "cell_type": "code",
   "execution_count": 4,
   "id": "5198bcdc-eec7-4ca0-950d-d7ef2f572a07",
   "metadata": {},
   "outputs": [],
   "source": [
    "# y = (list(df_iris.iloc[:,4]))\n",
    "# x1 = (list(df_iris.iloc[:,0]))\n",
    "# x2 = (list(df_iris.iloc[:,1]))\n",
    "# x3 = (list(df_iris.iloc[:,2]))\n",
    "# x4 = (list(df_iris.iloc[:,3]))\n",
    "X = df_iris.iloc[:, 0:4].values\n",
    "Y = df_iris.iloc[:, 4].values\n",
    "X_train, X_test, y_train, y_test = train_test_split(X, Y, test_size=0.2, random_state=0)"
   ]
  },
  {
   "cell_type": "markdown",
   "id": "e6364ca9-4cc5-4792-81a6-bc90acbf9a2e",
   "metadata": {},
   "source": [
    "### Feature scaling"
   ]
  },
  {
   "cell_type": "code",
   "execution_count": 5,
   "id": "3122df7f-8239-4c23-8f24-e256e1179348",
   "metadata": {},
   "outputs": [
    {
     "data": {
      "text/plain": [
       "(30, 4)"
      ]
     },
     "execution_count": 5,
     "metadata": {},
     "output_type": "execute_result"
    }
   ],
   "source": [
    "sc = StandardScaler()\n",
    "X_train = sc.fit_transform(X_train)\n",
    "X_test = sc.transform(X_test)\n",
    "X_test.shape"
   ]
  },
  {
   "cell_type": "markdown",
   "id": "157ecc3a-2ede-4642-b9e5-64c95b2653bf",
   "metadata": {},
   "source": [
    "### Performing MDA"
   ]
  },
  {
   "cell_type": "code",
   "execution_count": 6,
   "id": "aba85437-23a4-4ca4-b70a-79c77b67d394",
   "metadata": {},
   "outputs": [
    {
     "data": {
      "text/html": [
       "<div>\n",
       "<style scoped>\n",
       "    .dataframe tbody tr th:only-of-type {\n",
       "        vertical-align: middle;\n",
       "    }\n",
       "\n",
       "    .dataframe tbody tr th {\n",
       "        vertical-align: top;\n",
       "    }\n",
       "\n",
       "    .dataframe thead th {\n",
       "        text-align: right;\n",
       "    }\n",
       "</style>\n",
       "<table border=\"1\" class=\"dataframe\">\n",
       "  <thead>\n",
       "    <tr style=\"text-align: right;\">\n",
       "      <th></th>\n",
       "      <th>a</th>\n",
       "      <th>b</th>\n",
       "      <th>c</th>\n",
       "    </tr>\n",
       "  </thead>\n",
       "  <tbody>\n",
       "    <tr>\n",
       "      <th>0</th>\n",
       "      <td>-4.840674</td>\n",
       "      <td>-0.071332</td>\n",
       "      <td>2.0</td>\n",
       "    </tr>\n",
       "    <tr>\n",
       "      <th>1</th>\n",
       "      <td>-2.882114</td>\n",
       "      <td>-0.417209</td>\n",
       "      <td>1.0</td>\n",
       "    </tr>\n",
       "    <tr>\n",
       "      <th>2</th>\n",
       "      <td>8.035680</td>\n",
       "      <td>0.326957</td>\n",
       "      <td>0.0</td>\n",
       "    </tr>\n",
       "    <tr>\n",
       "      <th>3</th>\n",
       "      <td>-3.894706</td>\n",
       "      <td>0.343586</td>\n",
       "      <td>2.0</td>\n",
       "    </tr>\n",
       "    <tr>\n",
       "      <th>4</th>\n",
       "      <td>-6.549838</td>\n",
       "      <td>0.436394</td>\n",
       "      <td>2.0</td>\n",
       "    </tr>\n",
       "  </tbody>\n",
       "</table>\n",
       "</div>"
      ],
      "text/plain": [
       "          a         b    c\n",
       "0 -4.840674 -0.071332  2.0\n",
       "1 -2.882114 -0.417209  1.0\n",
       "2  8.035680  0.326957  0.0\n",
       "3 -3.894706  0.343586  2.0\n",
       "4 -6.549838  0.436394  2.0"
      ]
     },
     "execution_count": 6,
     "metadata": {},
     "output_type": "execute_result"
    }
   ],
   "source": [
    "lda = LDA(n_components=2)\n",
    "X_train = lda.fit_transform(X_train, y_train)\n",
    "X_test = lda.transform(X_test)\n",
    "X_train0=X_train[:,0]\n",
    "X_train1=X_train[:,1]\n",
    "iris_train=list(zip(list(X_train0),list(X_train1),list(y_train)))\n",
    "iris_train=pd.DataFrame (iris_train, columns = ['a','b','c'])\n",
    "iris_train.head()"
   ]
  },
  {
   "cell_type": "markdown",
   "id": "c6dc9669-33c2-4821-baa1-cb239156a0ae",
   "metadata": {},
   "source": [
    "### Plotting the test features"
   ]
  },
  {
   "cell_type": "code",
   "execution_count": 7,
   "id": "a3638870-6c33-4158-b0f8-fea1fd09f258",
   "metadata": {},
   "outputs": [
    {
     "data": {
      "text/plain": [
       "Text(0.5, 1.0, 'Iris training set plot after performing MDA')"
      ]
     },
     "execution_count": 7,
     "metadata": {},
     "output_type": "execute_result"
    },
    {
     "data": {
      "image/png": "[encoded data removed]",
      "text/plain": [
       "<Figure size 640x480 with 1 Axes>"
      ]
     },
     "metadata": {
      "needs_background": "light"
     },
     "output_type": "display_data"
    }
   ],
   "source": [
    "plt.figure(figsize=(8, 6), dpi=80)\n",
    "groups = iris_train.groupby('c')\n",
    "for name, group in groups:\n",
    "    plt.plot(group['a'], group['b'], marker='o', linestyle='', markersize=5, label=name)\n",
    "plt.xlabel('a')\n",
    "plt.ylabel('b')\n",
    "plt.legend()\n",
    "plt.title('Iris training set plot after performing MDA')"
   ]
  },
  {
   "cell_type": "markdown",
   "id": "4a517940-bfb0-4f28-af9d-ea739b536940",
   "metadata": {},
   "source": [
    "# Problem 2"
   ]
  },
  {
   "cell_type": "markdown",
   "id": "d56168f1-d7ec-4130-b34c-445a2b0416a0",
   "metadata": {},
   "source": [
    "### Importing training and testing Dataset\n",
    "I extracted the first 100 training points and first 50 test points with labels sneaker, pullover and boots beforehand and uploaded it to my github repo which i have imported here."
   ]
  },
  {
   "cell_type": "code",
   "execution_count": 8,
   "id": "58fd589f-fbf1-4873-ad57-17a890f6e811",
   "metadata": {},
   "outputs": [
    {
     "data": {
      "text/html": [
       "<div>\n",
       "<style scoped>\n",
       "    .dataframe tbody tr th:only-of-type {\n",
       "        vertical-align: middle;\n",
       "    }\n",
       "\n",
       "    .dataframe tbody tr th {\n",
       "        vertical-align: top;\n",
       "    }\n",
       "\n",
       "    .dataframe thead th {\n",
       "        text-align: right;\n",
       "    }\n",
       "</style>\n",
       "<table border=\"1\" class=\"dataframe\">\n",
       "  <thead>\n",
       "    <tr style=\"text-align: right;\">\n",
       "      <th></th>\n",
       "      <th>label</th>\n",
       "      <th>pixel1</th>\n",
       "      <th>pixel2</th>\n",
       "      <th>pixel3</th>\n",
       "      <th>pixel4</th>\n",
       "      <th>pixel5</th>\n",
       "      <th>pixel6</th>\n",
       "      <th>pixel7</th>\n",
       "      <th>pixel8</th>\n",
       "      <th>pixel9</th>\n",
       "      <th>...</th>\n",
       "      <th>pixel775</th>\n",
       "      <th>pixel776</th>\n",
       "      <th>pixel777</th>\n",
       "      <th>pixel778</th>\n",
       "      <th>pixel779</th>\n",
       "      <th>pixel780</th>\n",
       "      <th>pixel781</th>\n",
       "      <th>pixel782</th>\n",
       "      <th>pixel783</th>\n",
       "      <th>pixel784</th>\n",
       "    </tr>\n",
       "  </thead>\n",
       "  <tbody>\n",
       "    <tr>\n",
       "      <th>0</th>\n",
       "      <td>2</td>\n",
       "      <td>0</td>\n",
       "      <td>0</td>\n",
       "      <td>0</td>\n",
       "      <td>0</td>\n",
       "      <td>0</td>\n",
       "      <td>0</td>\n",
       "      <td>0</td>\n",
       "      <td>0</td>\n",
       "      <td>0</td>\n",
       "      <td>...</td>\n",
       "      <td>0</td>\n",
       "      <td>0</td>\n",
       "      <td>0</td>\n",
       "      <td>0</td>\n",
       "      <td>0</td>\n",
       "      <td>0</td>\n",
       "      <td>0</td>\n",
       "      <td>0</td>\n",
       "      <td>0</td>\n",
       "      <td>0</td>\n",
       "    </tr>\n",
       "    <tr>\n",
       "      <th>1</th>\n",
       "      <td>2</td>\n",
       "      <td>0</td>\n",
       "      <td>0</td>\n",
       "      <td>0</td>\n",
       "      <td>0</td>\n",
       "      <td>1</td>\n",
       "      <td>1</td>\n",
       "      <td>0</td>\n",
       "      <td>0</td>\n",
       "      <td>0</td>\n",
       "      <td>...</td>\n",
       "      <td>0</td>\n",
       "      <td>0</td>\n",
       "      <td>118</td>\n",
       "      <td>190</td>\n",
       "      <td>162</td>\n",
       "      <td>82</td>\n",
       "      <td>0</td>\n",
       "      <td>0</td>\n",
       "      <td>0</td>\n",
       "      <td>0</td>\n",
       "    </tr>\n",
       "    <tr>\n",
       "      <th>2</th>\n",
       "      <td>2</td>\n",
       "      <td>0</td>\n",
       "      <td>0</td>\n",
       "      <td>0</td>\n",
       "      <td>0</td>\n",
       "      <td>0</td>\n",
       "      <td>0</td>\n",
       "      <td>0</td>\n",
       "      <td>0</td>\n",
       "      <td>16</td>\n",
       "      <td>...</td>\n",
       "      <td>0</td>\n",
       "      <td>0</td>\n",
       "      <td>1</td>\n",
       "      <td>1</td>\n",
       "      <td>1</td>\n",
       "      <td>1</td>\n",
       "      <td>0</td>\n",
       "      <td>0</td>\n",
       "      <td>0</td>\n",
       "      <td>0</td>\n",
       "    </tr>\n",
       "    <tr>\n",
       "      <th>3</th>\n",
       "      <td>2</td>\n",
       "      <td>0</td>\n",
       "      <td>0</td>\n",
       "      <td>0</td>\n",
       "      <td>0</td>\n",
       "      <td>0</td>\n",
       "      <td>0</td>\n",
       "      <td>0</td>\n",
       "      <td>0</td>\n",
       "      <td>0</td>\n",
       "      <td>...</td>\n",
       "      <td>0</td>\n",
       "      <td>0</td>\n",
       "      <td>0</td>\n",
       "      <td>0</td>\n",
       "      <td>0</td>\n",
       "      <td>0</td>\n",
       "      <td>0</td>\n",
       "      <td>0</td>\n",
       "      <td>0</td>\n",
       "      <td>0</td>\n",
       "    </tr>\n",
       "    <tr>\n",
       "      <th>4</th>\n",
       "      <td>2</td>\n",
       "      <td>0</td>\n",
       "      <td>0</td>\n",
       "      <td>0</td>\n",
       "      <td>0</td>\n",
       "      <td>0</td>\n",
       "      <td>0</td>\n",
       "      <td>0</td>\n",
       "      <td>0</td>\n",
       "      <td>0</td>\n",
       "      <td>...</td>\n",
       "      <td>0</td>\n",
       "      <td>0</td>\n",
       "      <td>0</td>\n",
       "      <td>0</td>\n",
       "      <td>0</td>\n",
       "      <td>0</td>\n",
       "      <td>0</td>\n",
       "      <td>0</td>\n",
       "      <td>0</td>\n",
       "      <td>0</td>\n",
       "    </tr>\n",
       "  </tbody>\n",
       "</table>\n",
       "<p>5 rows × 785 columns</p>\n",
       "</div>"
      ],
      "text/plain": [
       "   label  pixel1  pixel2  pixel3  pixel4  pixel5  pixel6  pixel7  pixel8  \\\n",
       "0      2       0       0       0       0       0       0       0       0   \n",
       "1      2       0       0       0       0       1       1       0       0   \n",
       "2      2       0       0       0       0       0       0       0       0   \n",
       "3      2       0       0       0       0       0       0       0       0   \n",
       "4      2       0       0       0       0       0       0       0       0   \n",
       "\n",
       "   pixel9  ...  pixel775  pixel776  pixel777  pixel778  pixel779  pixel780  \\\n",
       "0       0  ...         0         0         0         0         0         0   \n",
       "1       0  ...         0         0       118       190       162        82   \n",
       "2      16  ...         0         0         1         1         1         1   \n",
       "3       0  ...         0         0         0         0         0         0   \n",
       "4       0  ...         0         0         0         0         0         0   \n",
       "\n",
       "   pixel781  pixel782  pixel783  pixel784  \n",
       "0         0         0         0         0  \n",
       "1         0         0         0         0  \n",
       "2         0         0         0         0  \n",
       "3         0         0         0         0  \n",
       "4         0         0         0         0  \n",
       "\n",
       "[5 rows x 785 columns]"
      ]
     },
     "execution_count": 8,
     "metadata": {},
     "output_type": "execute_result"
    }
   ],
   "source": [
    "url1 = \"https://raw.githubusercontent.com/Sankalp2002/IML_datasets/main/fashiontrain300.csv\"\n",
    "url2 = \"https://raw.githubusercontent.com/Sankalp2002/IML_datasets/main/fashiontest150.csv\"\n",
    "download1 = requests.get(url1).content\n",
    "download2 = requests.get(url2).content\n",
    "df_train= pd.read_csv(io.StringIO(download1.decode('utf-8')))\n",
    "df_test = pd.read_csv(io.StringIO(download2.decode('utf-8')))\n",
    "df_test.head()"
   ]
  },
  {
   "cell_type": "markdown",
   "id": "64e0763b-70ba-49fe-9576-27a5054cb3c4",
   "metadata": {},
   "source": [
    "## (i) Plotting training set"
   ]
  },
  {
   "cell_type": "markdown",
   "id": "14b7ccd6-3515-4d5b-a95d-18d95880cda1",
   "metadata": {},
   "source": [
    "### Using MDA"
   ]
  },
  {
   "cell_type": "code",
   "execution_count": 9,
   "id": "c889e215-1c43-423c-bf6c-7608d74e930f",
   "metadata": {},
   "outputs": [],
   "source": [
    "y_train=df_train.iloc[:,0]\n",
    "X_train=df_train.drop(['label'], axis=1)\n",
    "y_test=df_test.iloc[:,0]\n",
    "X_test=df_test.drop(['label'], axis=1)\n",
    "\n",
    "sc = StandardScaler()\n",
    "X_train = sc.fit_transform(X_train)\n",
    "X_test = sc.fit_transform(X_test)\n",
    "\n",
    "lda = LDA(n_components=2)\n",
    "lda_result = lda.fit_transform(X_train, y_train)\n",
    "\n",
    "lda_testset=lda.fit_transform(X_test,y_test) \n",
    "# X_test = lda.transform(X_test)\n",
    "# X_test0=X_test[:,0]\n",
    "# X_test1=X_test[:,1]\n",
    "X_train0=lda_result[:,0]\n",
    "X_train1=lda_result[:,1]\n",
    "# lda_test=list(zip(list(X_test0),list(X_test1),list(y_test)))\n",
    "# lda_test=pd.DataFrame (lda_test, columns = ['a','b','c'])\n",
    "lda_train=list(zip(list(X_train0),list(X_train1),list(y_train)))\n",
    "lda_train=pd.DataFrame (lda_train, columns = ['a','b','c'])"
   ]
  },
  {
   "cell_type": "code",
   "execution_count": 10,
   "id": "5b16961e-01f4-4db2-b273-ddebd5635138",
   "metadata": {},
   "outputs": [
    {
     "name": "stderr",
     "output_type": "stream",
     "text": [
      "No handles with labels found to put in legend.\n"
     ]
    },
    {
     "data": {
      "text/plain": [
       "Text(0.5, 1.0, 'Fashion training set plot after performing MDA')"
      ]
     },
     "execution_count": 10,
     "metadata": {},
     "output_type": "execute_result"
    },
    {
     "data": {
      "image/png": "[encoded data removed]",
      "text/plain": [
       "<Figure size 640x480 with 1 Axes>"
      ]
     },
     "metadata": {
      "needs_background": "light"
     },
     "output_type": "display_data"
    }
   ],
   "source": [
    "plt.figure(figsize=(8, 6), dpi=80)\n",
    "groups = lda_train.groupby('c')\n",
    "name=['sneaker', 'pullover', 'boots']\n",
    "for name, group in groups:\n",
    "    plt.plot(group['a'], group['b'], marker='o', linestyle='', markersize=5)\n",
    "plt.xlabel('a')\n",
    "plt.ylabel('b')\n",
    "plt.legend()\n",
    "plt.title('Fashion training set plot after performing MDA')"
   ]
  },
  {
   "cell_type": "markdown",
   "id": "a055fba0-da6a-4fc4-bf72-24a47fe574f8",
   "metadata": {},
   "source": [
    "### Using PCA"
   ]
  },
  {
   "cell_type": "code",
   "execution_count": 11,
   "id": "ec3975b8-d60b-4c6c-98cd-c89502422a0e",
   "metadata": {},
   "outputs": [
    {
     "name": "stderr",
     "output_type": "stream",
     "text": [
      "No handles with labels found to put in legend.\n"
     ]
    },
    {
     "data": {
      "text/plain": [
       "Text(0.5, 1.0, 'Fashion training set plot after performing PCA')"
      ]
     },
     "execution_count": 11,
     "metadata": {},
     "output_type": "execute_result"
    },
    {
     "data": {
      "image/png": "[encoded data removed]",
      "text/plain": [
       "<Figure size 640x480 with 1 Axes>"
      ]
     },
     "metadata": {
      "needs_background": "light"
     },
     "output_type": "display_data"
    }
   ],
   "source": [
    "y_train=df_train.iloc[:,0]\n",
    "X_train=df_train.drop(['label'], axis=1)\n",
    "y_test=df_test.iloc[:,0]\n",
    "X_test=df_test.drop(['label'], axis=1)\n",
    "\n",
    "sc = StandardScaler()\n",
    "X_train = sc.fit_transform(X_train)\n",
    "X_test = sc.fit_transform(X_test)\n",
    "\n",
    "pca = PCA(n_components=2)\n",
    "pca_result = pca.fit_transform(X_train,y_train)\n",
    "\n",
    "X_train0=pca_result[:,0]\n",
    "X_train1=pca_result[:,1]\n",
    "pca_train=list(zip(list(X_train0),list(X_train1),list(y_train)))\n",
    "pca_train=pd.DataFrame (pca_train, columns = ['a','b','c'])\n",
    "\n",
    "pca_testset=pca.fit_transform(X_test) \n",
    "\n",
    "plt.figure(figsize=(8, 6), dpi=80)\n",
    "groups = pca_train.groupby('c')\n",
    "name=['sneaker', 'pullover', 'boots']\n",
    "for name, group in groups:\n",
    "    plt.plot(group['a'], group['b'], marker='o', linestyle='', markersize=5)\n",
    "plt.xlabel('a')\n",
    "plt.ylabel('b')\n",
    "plt.legend()\n",
    "plt.title('Fashion training set plot after performing PCA')"
   ]
  },
  {
   "cell_type": "markdown",
   "id": "58112eb7-ad65-40af-ad6f-a2988489e9c3",
   "metadata": {},
   "source": [
    "### Using t-sne"
   ]
  },
  {
   "cell_type": "code",
   "execution_count": 12,
   "id": "57bfa8ac-648b-4089-9aa2-f8fb260d4fbc",
   "metadata": {},
   "outputs": [
    {
     "name": "stderr",
     "output_type": "stream",
     "text": [
      "No handles with labels found to put in legend.\n"
     ]
    },
    {
     "data": {
      "text/plain": [
       "Text(0.5, 1.0, 'Fashion training set plot after performing T-SNE')"
      ]
     },
     "execution_count": 12,
     "metadata": {},
     "output_type": "execute_result"
    },
    {
     "data": {
      "image/png": "[encoded data removed]",
      "text/plain": [
       "<Figure size 640x480 with 1 Axes>"
      ]
     },
     "metadata": {
      "needs_background": "light"
     },
     "output_type": "display_data"
    }
   ],
   "source": [
    "y_train=df_train.iloc[:,0]\n",
    "X_train=df_train.drop(['label'], axis=1)\n",
    "y_test=df_test.iloc[:,0]\n",
    "X_test=df_test.drop(['label'], axis=1)\n",
    "\n",
    "sc = StandardScaler()\n",
    "X_train = sc.fit_transform(X_train)\n",
    "X_test = sc.fit_transform(X_test)\n",
    "\n",
    "tsne = TSNE(n_components=2, random_state=0, perplexity=50)\n",
    "tsne_result = tsne.fit_transform(X_train) \n",
    "\n",
    "X_train0=tsne_result[:,0]\n",
    "X_train1=tsne_result[:,1]\n",
    "tsne_train=list(zip(list(X_train0),list(X_train1),list(y_train)))\n",
    "tsne_train=pd.DataFrame (tsne_train, columns = ['a','b','c'])\n",
    "\n",
    "tsne_testset=tsne.fit_transform(X_test) \n",
    "\n",
    "plt.figure(figsize=(8, 6), dpi=80)\n",
    "groups = tsne_train.groupby('c')\n",
    "name=['sneaker', 'pullover', 'boots']\n",
    "for name, group in groups:\n",
    "    plt.plot(group['a'], group['b'], marker='o', linestyle='', markersize=5)\n",
    "plt.xlabel('a')\n",
    "plt.ylabel('b')\n",
    "plt.legend()\n",
    "plt.title('Fashion training set plot after performing T-SNE')"
   ]
  },
  {
   "cell_type": "markdown",
   "id": "26403741-b8e6-45a9-8d02-b34322d911b8",
   "metadata": {},
   "source": [
    "## (ii) Checking the accuracy of testing set"
   ]
  },
  {
   "cell_type": "code",
   "execution_count": 13,
   "id": "bea34129-d277-48f5-b5ba-2981501c363c",
   "metadata": {},
   "outputs": [],
   "source": [
    "pca_model= KNeighborsClassifier(n_neighbors=3)\n",
    "lda_model= KNeighborsClassifier(n_neighbors=3)\n",
    "tsne_model= KNeighborsClassifier(n_neighbors=3)"
   ]
  },
  {
   "cell_type": "code",
   "execution_count": 14,
   "id": "774a2a57-4d0e-43bd-8015-2059cebdf666",
   "metadata": {},
   "outputs": [
    {
     "name": "stdout",
     "output_type": "stream",
     "text": [
      "0\n",
      "0\n",
      "3\n"
     ]
    }
   ],
   "source": [
    "lda_model.fit(lda_result,y_train)\n",
    "pca_model.fit(pca_result,y_train)\n",
    "tsne_model.fit(tsne_result,y_train)\n",
    "\n",
    "predicted_lda=lda_model.predict(lda_testset)\n",
    "predicted_pca=pca_model.predict(pca_testset)\n",
    "predicted_tsne=tsne_model.predict(tsne_testset)\n",
    "\n",
    "error_lda=0\n",
    "error_pca=0\n",
    "error_tsne=0\n",
    "\n",
    "for i in range(50):\n",
    "    if predicted_lda[i]!=y_test[i]:\n",
    "        error_lda=error_lda+1\n",
    "    if predicted_pca[i]!=y_test[i]:\n",
    "        error_pca=error_pca+1\n",
    "    if predicted_tsne[i]!=y_test[i]:\n",
    "        error_tsne=error_tsne+1\n",
    "print(error_lda)\n",
    "print(error_pca)\n",
    "print(error_tsne)"
   ]
  }
 ],
 "metadata": {
  "kernelspec": {
   "display_name": "IML",
   "language": "python",
   "name": "iml_kernel"
  },
  "language_info": {
   "codemirror_mode": {
    "name": "ipython",
    "version": 3
   },
   "file_extension": ".py",
   "mimetype": "text/x-python",
   "name": "python",
   "nbconvert_exporter": "python",
   "pygments_lexer": "ipython3",
   "version": "3.9.7"
  }
 },
 "nbformat": 4,
 "nbformat_minor": 5
}
