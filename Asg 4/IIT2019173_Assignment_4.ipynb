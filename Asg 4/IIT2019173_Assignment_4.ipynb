{
 "cells": [
  {
   "cell_type": "markdown",
   "id": "9c4104aa-ef31-4ac2-ac03-5e9841f6a58c",
   "metadata": {},
   "source": [
    "## Importing modules"
   ]
  },
  {
   "cell_type": "code",
   "execution_count": 1,
   "id": "67a34e5f-9701-4bbd-add9-b5193655fdf6",
   "metadata": {},
   "outputs": [],
   "source": [
    "import numpy as np\n",
    "import pandas as pd\n",
    "import random\n",
    "import matplotlib.pyplot as plt\n",
    "import math\n",
    "import requests\n",
    "import io"
   ]
  },
  {
   "cell_type": "markdown",
   "id": "b645fda0-a019-40fa-bb73-130375c68285",
   "metadata": {},
   "source": [
    "# Q1"
   ]
  },
  {
   "cell_type": "markdown",
   "id": "50aad57d-6630-434c-8773-04e8782ee5a5",
   "metadata": {},
   "source": [
    "### Importing Dataset"
   ]
  },
  {
   "cell_type": "code",
   "execution_count": 2,
   "id": "30a05077-7006-41b8-8251-aa30ca594294",
   "metadata": {},
   "outputs": [
    {
     "name": "stdout",
     "output_type": "stream",
     "text": [
      "        test1      test2  label\n",
      "0   34.623660  78.024693      0\n",
      "1   30.286711  43.894998      0\n",
      "2   35.847409  72.902198      0\n",
      "3   60.182599  86.308552      1\n",
      "4   79.032736  75.344376      1\n",
      "..        ...        ...    ...\n",
      "95  83.489163  48.380286      1\n",
      "96  42.261701  87.103851      1\n",
      "97  99.315009  68.775409      1\n",
      "98  55.340018  64.931938      1\n",
      "99  74.775893  89.529813      1\n",
      "\n",
      "[100 rows x 3 columns]\n"
     ]
    }
   ],
   "source": [
    "url = \"https://raw.githubusercontent.com/Sankalp2002/IML_datasets/main/exam.csv\"\n",
    "download = requests.get(url).content\n",
    "df = pd.read_csv(io.StringIO(download.decode('utf-8')))\n",
    "print(df)\n",
    "#dividing into training and testing parts\n",
    "df_test=df.iloc[70:100]\n",
    "df_train=df.iloc[0:70]"
   ]
  },
  {
   "cell_type": "markdown",
   "id": "783e98d5-a451-4edf-9366-a9e81dff1f11",
   "metadata": {},
   "source": [
    "### Dataset Visualisation"
   ]
  },
  {
   "cell_type": "code",
   "execution_count": 3,
   "id": "a422f36a-8e15-4e72-b9c4-322368ce26ae",
   "metadata": {},
   "outputs": [
    {
     "data": {
      "text/plain": [
       "Text(0.5, 1.0, 'Test dataset scatter plot')"
      ]
     },
     "execution_count": 3,
     "metadata": {},
     "output_type": "execute_result"
    },
    {
     "data": {
      "image/png": "[encoded data removed]",
      "text/plain": [
       "<Figure size 640x480 with 1 Axes>"
      ]
     },
     "metadata": {
      "needs_background": "light"
     },
     "output_type": "display_data"
    }
   ],
   "source": [
    "plt.figure(figsize=(8, 6), dpi=80)\n",
    "groups = df.groupby('label')\n",
    "for name, group in groups:\n",
    "    plt.plot(group['test1'], group['test2'], marker='o', linestyle='', markersize=5, label=name)\n",
    "plt.xlabel('Test 1')\n",
    "plt.ylabel('Test 2')\n",
    "plt.legend()\n",
    "plt.title('Test dataset scatter plot')"
   ]
  },
  {
   "cell_type": "markdown",
   "id": "5cc19f0d-472b-48f2-a5ac-97e2a9b3e3f8",
   "metadata": {},
   "source": [
    "### Scale function takes list and returns the mean scaled list"
   ]
  },
  {
   "cell_type": "code",
   "execution_count": 4,
   "id": "d8ccc4c7-a642-425a-b87e-a5f9c558d99b",
   "metadata": {},
   "outputs": [],
   "source": [
    "def scale(A):\n",
    "    _mean=np.mean(A)\n",
    "    _max=max(A)\n",
    "    _min=min(A)\n",
    "    scaled=[((i - _mean) / (_max - _min)) for i in A]\n",
    "    return scaled"
   ]
  },
  {
   "cell_type": "markdown",
   "id": "0f6d39cb-7d14-4661-adba-7c1e4ad92e16",
   "metadata": {},
   "source": [
    "### Sigmoid function "
   ]
  },
  {
   "cell_type": "code",
   "execution_count": 5,
   "id": "f569b3eb-4be9-455b-b85b-4670a6ac8aa4",
   "metadata": {},
   "outputs": [],
   "source": [
    "def sig(x):\n",
    "    if x >= 0:\n",
    "        z = math.exp(-x)\n",
    "        s = 1 / (1 + z)\n",
    "        return s\n",
    "    else:\n",
    "        z = math.exp(x)\n",
    "        s = z / (1 + z)\n",
    "        return s"
   ]
  },
  {
   "cell_type": "markdown",
   "id": "7daf9e6f-d4d2-4a4a-8c2a-c35c9002f862",
   "metadata": {},
   "source": [
    "### Creating a scaled and a non-scaled list for combined features and a list for labels for both training and testing parts."
   ]
  },
  {
   "cell_type": "code",
   "execution_count": 6,
   "id": "0da46609-ad12-404a-b313-2feb8aeca14d",
   "metadata": {},
   "outputs": [],
   "source": [
    "y = (list(df_train.iloc[:,0]))\n",
    "x0 = [1]*len(y)\n",
    "x1 = scale(list(df_train.iloc[:,0]))\n",
    "x2 = scale(list(df_train.iloc[:,1]))\n",
    "scaled_FTrain=list(zip(x0,x1,x2))\n",
    "PTrain=y\n",
    "y = (list(df_test.iloc[:,0]))\n",
    "x0 = [1]*len(y)\n",
    "x1 = scale(list(df_test.iloc[:,0]))\n",
    "x2 = scale(list(df_test.iloc[:,1]))\n",
    "PTest =y\n",
    "scaled_FTest=list(zip(x0,x1,x2))\n",
    "\n",
    "y = (list(df_train.iloc[:,2]))\n",
    "x0 = [1]*len(y)\n",
    "x1 = (list(df_train.iloc[:,0]))\n",
    "x2 = (list(df_train.iloc[:,1]))\n",
    "FTrain=list(zip(x0,x1,x2))\n",
    "PTrain=y\n",
    "y = (list(df_test.iloc[:,2]))\n",
    "x0 = [1]*len(y)\n",
    "x1 = (list(df_test.iloc[:,0]))\n",
    "x2 = (list(df_test.iloc[:,1]))\n",
    "PTest=y\n",
    "FTest=list(zip(x0,x1,x2))\n"
   ]
  },
  {
   "cell_type": "markdown",
   "id": "bf8ba032-380c-4024-93bd-6b99be5c4566",
   "metadata": {},
   "source": [
    "### Creating a scaled and higher order list for combined features and a list for labels for both training and testing parts. The highest order term is of the order of 4."
   ]
  },
  {
   "cell_type": "code",
   "execution_count": 7,
   "id": "2db56c7f-3c8e-447a-a718-bea05c13d3c9",
   "metadata": {},
   "outputs": [],
   "source": [
    "y = (list(df_train.iloc[:,2]))\n",
    "x0 = [1]*len(y)\n",
    "x1 = (list(df_train.iloc[:,0]))\n",
    "x2 = (list(df_train.iloc[:,1]))\n",
    "x3 = scale(np.square(x1))\n",
    "x4 = scale(np.square(x2))\n",
    "x5 = scale([x1[i] * x2[i] for i in range(len(x1))])\n",
    "x6 = scale([i**3 for i in x1])\n",
    "x7 = scale([i**3 for i in x2])\n",
    "x8 = scale([i**4 for i in x1])\n",
    "x9 = scale([i**4 for i in x2])\n",
    "x1=scale(x1)\n",
    "x2=scale(x2)\n",
    "HOFTrain=list(zip(x0,x1,x2,x3,x4,x5,x6,x7,x8,x9))\n",
    "HOPTrain=y\n",
    "y = (list(df_test.iloc[:,2]))\n",
    "x0 = [1]*len(y)\n",
    "x1 = (list(df_test.iloc[:,0]))\n",
    "x2 = (list(df_test.iloc[:,1]))\n",
    "x3 = scale(np.square(x1))\n",
    "x4 = scale(np.square(x2))\n",
    "x5 = scale([x1[i] * x2[i] for i in range(len(x1))])\n",
    "x6 = scale([i**3 for i in x1])\n",
    "x7 = scale([i**3 for i in x2])\n",
    "x8 = scale([i**4 for i in x1])\n",
    "x9 = scale([i**4 for i in x2])\n",
    "x1=scale(x1)\n",
    "x2=scale(x2)\n",
    "HOPTest=y\n",
    "HOFTest=list(zip(x0,x1,x2,x3,x4,x5,x6,x7,x8,x9))"
   ]
  },
  {
   "cell_type": "markdown",
   "id": "09e8497f-a555-441a-afe5-4c04b3cbaab1",
   "metadata": {},
   "source": [
    "## Creating separate slope functions for batch, stochastic and mini-batch gradient descent."
   ]
  },
  {
   "cell_type": "markdown",
   "id": "4231842b-7457-48b0-adc2-be664b716a6c",
   "metadata": {
    "tags": []
   },
   "source": [
    "### Slopebgd calculates slope for all samples for the gradient descent part.\n",
    "### Slopesgd calculates slope for a single sample at a given index. \n",
    "### Slopembgd calculates slope for a batch of samples starting at a given index till a given batch size."
   ]
  },
  {
   "cell_type": "code",
   "execution_count": 8,
   "id": "bd126b22-2300-47c4-8ee0-7d96abdf71ef",
   "metadata": {},
   "outputs": [],
   "source": [
    "def Slopebgd(C, F, P, ind):\n",
    "    Error = 0\n",
    "    for i in range(len(F)):\n",
    "        h = 0\n",
    "        for j in range(len(C)):\n",
    "            h = h + C[j] * F[i][j]\n",
    "        Error += (sig(h) - P[i]) * F[i][ind]\n",
    "    return Error\n",
    "def Slopembgd(C, F, P, ind,bsize,k):\n",
    "    Error = 0\n",
    "    for i in range(k,k+bsize):\n",
    "        h = 0\n",
    "        for j in range(len(C)):\n",
    "            h = h + C[j] * F[i][j]\n",
    "        Error += (sig(h) - P[i]) * F[i][ind]\n",
    "    return Error\n",
    "def Slopesgd(C,F,P,ind,i):\n",
    "    h = 0\n",
    "    for j in range(len(C)):\n",
    "        h = h + C[j] * F[i][j]\n",
    "    return (sig(h) - P[i]) * F[i][ind]"
   ]
  },
  {
   "cell_type": "markdown",
   "id": "22a61ce2-6fca-434b-822c-2f5eaaceab8a",
   "metadata": {},
   "source": [
    "## Creating an error function which returns error % for given coefficients and feature, label list."
   ]
  },
  {
   "cell_type": "code",
   "execution_count": 9,
   "id": "b6e32d0d-f897-415a-bab5-ce4b64fa05c3",
   "metadata": {},
   "outputs": [],
   "source": [
    "def CalcError(F2,P2,Coeff):\n",
    "    Error = 0\n",
    "    for i in range(len(F2)):\n",
    "        predicted = 0\n",
    "        for j in range(len(Coeff)):\n",
    "            predicted = predicted + Coeff[j] * F2[i][j]\n",
    "        if ((sig(predicted)>=0.5) and (P2[i]==0)) or ((sig(predicted)<0.5) and (P2[i]==1)):\n",
    "            Error=Error+1\n",
    "    Error = (Error / len(F2)) * 100\n",
    "    return Error"
   ]
  },
  {
   "cell_type": "markdown",
   "id": "a500825a-2858-4056-b6c1-7c446f930696",
   "metadata": {},
   "source": [
    "## Predictor function"
   ]
  },
  {
   "cell_type": "code",
   "execution_count": 866,
   "id": "6175b274-194b-4c11-bfae-aef8c150de8f",
   "metadata": {},
   "outputs": [
    {
     "data": {
      "text/plain": [
       "1"
      ]
     },
     "execution_count": 866,
     "metadata": {},
     "output_type": "execute_result"
    }
   ],
   "source": [
    "def Predict(score1,score2):\n",
    "    clen=np.shape(FTrain)[1]\n",
    "    Coeff = [0]*clen\n",
    "    for i in range(100000):#50000\n",
    "        Temp= Coeff\n",
    "        for j in range(len(Coeff)):\n",
    "            Temp[j] = Temp[j] - ((0.01 / len(FTrain)) * (Slopebgd(Coeff, FTrain, PTrain, j)))\n",
    "        Coeff = Temp\n",
    "    F=[1,score1,score2]\n",
    "    predicted = 0\n",
    "    for j in range(len(Coeff)):\n",
    "        predicted = predicted + Coeff[j] * F[j]\n",
    "    if (sig(predicted)>=0.5):\n",
    "        return 1\n",
    "    else:\n",
    "        return 0\n",
    "Predict(45,85)"
   ]
  },
  {
   "cell_type": "markdown",
   "id": "ff0ed48a-4004-45fe-99a1-7aed3422e1b9",
   "metadata": {},
   "source": [
    "## Functions for Batch Gradient Descent with and without regularization.\n",
    "### Takes training and testing features and label lists, learning rate, no. of iterations as input and returns error%.\n",
    "### Regularized BGD takes lambda as input also."
   ]
  },
  {
   "cell_type": "code",
   "execution_count": 11,
   "id": "bfdfbbfa-5728-437d-90de-99667140d62a",
   "metadata": {},
   "outputs": [],
   "source": [
    "def bgd(F1,P1,F2,P2,rate,iters):\n",
    "    clen=np.shape(F1)[1]\n",
    "    Coeff = [0]*clen\n",
    "    for i in range(iters):#50000\n",
    "        Temp= Coeff\n",
    "        for j in range(len(Coeff)):\n",
    "            Temp[j] = Temp[j] - ((rate / len(F1)) * (Slopebgd(Coeff, F1, P1, j)))\n",
    "        Coeff = Temp\n",
    "    #print(Coeff)\n",
    "    return CalcError(F2,P2,Coeff)\n",
    "\n",
    "def bgd_reg(F1,P1,F2,P2,rate,iters,lam):\n",
    "    clen=np.shape(F1)[1]\n",
    "    Coeff = [0]*clen\n",
    "    for i in range(iters):#50000\n",
    "        Temp = Coeff\n",
    "        for j in range(len(Coeff)):\n",
    "            Temp[j] = Temp[j]*(1-rate*lam/len(F1)) - ((rate / len(F1)) * (Slopebgd(Coeff, F1, P1, j)))\n",
    "        Coeff = Temp\n",
    "    return CalcError(F2,P2,Coeff)"
   ]
  },
  {
   "cell_type": "markdown",
   "id": "67648bc5-1947-4d7f-b870-e42edcbe6613",
   "metadata": {},
   "source": [
    "## Functions for Stochastic Gradient Descent with and without regularization.\n",
    "### Takes training and testing features and label lists, learning rate, no. of iterations as input and returns error%.\n",
    "### Regularized SGD takes lambda as input also."
   ]
  },
  {
   "cell_type": "code",
   "execution_count": 12,
   "id": "0058eeb4-c10e-4992-b331-82e9038a9da5",
   "metadata": {},
   "outputs": [],
   "source": [
    "def sgd(F1,P1,F2,P2,rate,iters):\n",
    "    clen=np.shape(F1)[1]\n",
    "    Coeff = [0]*clen\n",
    "    for k in range(iters):#1000000\n",
    "        i=random.randint(0,69)# sample is randomly selected\n",
    "        Temp = Coeff\n",
    "        for j in range(len(Coeff)):\n",
    "            Temp[j] = Temp[j] - ((rate/len(F1)) * (Slopesgd(Coeff, F1, P1, j,i)))\n",
    "        Coeff = Temp\n",
    "    return CalcError(F2,P2,Coeff)\n",
    "\n",
    "def sgd_reg(F1,P1,F2,P2,rate,iters,lam):\n",
    "    clen=np.shape(F1)[1]\n",
    "    Coeff = [0]*clen\n",
    "    for iter in range(iters):#1000000\n",
    "        i=random.randint(0,69)\n",
    "        Temp = Coeff\n",
    "        for j in range(len(Coeff)):\n",
    "            Temp[j] = Temp[j] - ((rate/len(F1)) * (Slopesgd(Coeff, F1, P1, j,i)+(lam*Temp[j])))\n",
    "        Coeff = Temp\n",
    "    return CalcError(F2,P2,Coeff)"
   ]
  },
  {
   "cell_type": "markdown",
   "id": "fd8abe91-23f2-4b74-920b-c01fda821882",
   "metadata": {},
   "source": [
    "## Functions for Mini-Batch Gradient Descent with and without regularization.\n",
    "### Takes training and testing features and label lists, learning rate,batch size, no. of iterations as input and returns error%.\n",
    "### Regularized MBGD takes lambda as input also."
   ]
  },
  {
   "cell_type": "code",
   "execution_count": 13,
   "id": "3d4611a6-abe3-4f59-96f0-c4f4903df9a9",
   "metadata": {},
   "outputs": [],
   "source": [
    "def mbgd(F1,P1,F2,P2,rate,bsize,iters):\n",
    "    clen=np.shape(F1)[1]\n",
    "    Coeff = [0]*clen\n",
    "    NoOfBatches = math.floor(len(P1) / bsize)\n",
    "    for e in range(iters):\n",
    "        batch = random.randrange(0,NoOfBatches)\n",
    "        Temp = Coeff\n",
    "        for j in range(len(Coeff)):\n",
    "            Temp[j] = Temp[j] - ((rate / len(F1)) * (Slopembgd(Coeff, F1, P1, j,bsize,bsize*batch)))\n",
    "        Coeff = Temp\n",
    "    return CalcError(F2,P2,Coeff)\n",
    "\n",
    "def mbgd_reg(F1,P1,F2,P2,rate,bsize,iters,lam):\n",
    "    clen=np.shape(F1)[1]\n",
    "    Coeff = [0]*clen\n",
    "    NoOfBatches = math.floor(len(P1) / bsize)\n",
    "    for e in range(iters):\n",
    "        batch = random.randrange(0,NoOfBatches)#starting point of batch is randomly selected\n",
    "        Temp = Coeff\n",
    "        for j in range(len(Coeff)):\n",
    "            Temp[j] = Temp[j] - ((rate / len(F1)) * (Slopembgd(Coeff, F1, P1, j,bsize,bsize*batch)+(lam*Temp[j])))\n",
    "        Coeff = Temp  \n",
    "    return CalcError(F2,P2,Coeff)"
   ]
  },
  {
   "cell_type": "markdown",
   "id": "b1c5615c-9d90-4ecc-a84d-0c51acb2c946",
   "metadata": {},
   "source": [
    "## Part A\n",
    "### No feature scaling, No higher order terms"
   ]
  },
  {
   "cell_type": "code",
   "execution_count": 859,
   "id": "e8421b78-318f-45b6-bc90-a361cdda2bad",
   "metadata": {},
   "outputs": [
    {
     "name": "stdout",
     "output_type": "stream",
     "text": [
      "6.666666666666667\n",
      "20.0\n",
      "20.0\n"
     ]
    }
   ],
   "source": [
    "print(bgd(FTrain,PTrain,FTest,PTest,0.01,100000)) \n",
    "    \n",
    "print(sgd(FTrain,PTrain,FTest,PTest,0.00001,10000))\n",
    "\n",
    "print(mbgd(FTrain,PTrain,FTest,PTest,0.000001,15,100)) "
   ]
  },
  {
   "cell_type": "markdown",
   "id": "8faa9f03-505b-4f9a-a3eb-b0f574ceb528",
   "metadata": {},
   "source": [
    "### With feature scaling, No higher order terms"
   ]
  },
  {
   "cell_type": "code",
   "execution_count": 691,
   "id": "dff8b56e-f4f3-41cb-a8a8-902e361bec27",
   "metadata": {},
   "outputs": [
    {
     "name": "stdout",
     "output_type": "stream",
     "text": [
      "6.666666666666667\n",
      "6.666666666666667\n",
      "10.0\n"
     ]
    }
   ],
   "source": [
    "print(bgd(scaled_FTrain,PTrain,scaled_FTest,PTest,0.00000000000000001,400))\n",
    "    \n",
    "print(sgd(scaled_FTrain,PTrain,scaled_FTest,PTest,0.000000000000001,300))\n",
    "\n",
    "print(mbgd(scaled_FTrain,PTrain,scaled_FTest,PTest,0.0001,15,1000))"
   ]
  },
  {
   "cell_type": "markdown",
   "id": "1742f874-58ca-435d-ac22-862c3bbf4fb7",
   "metadata": {},
   "source": [
    "## Part B\n",
    "### With feature scaling, with higher order terms, without regularisation"
   ]
  },
  {
   "cell_type": "code",
   "execution_count": 692,
   "id": "218eafc9-ffa0-41b4-a92a-6e9b756f1398",
   "metadata": {},
   "outputs": [
    {
     "name": "stdout",
     "output_type": "stream",
     "text": [
      "10.0\n",
      "6.666666666666667\n",
      "6.666666666666667\n"
     ]
    }
   ],
   "source": [
    "print(bgd(HOFTrain,HOPTrain,HOFTest,HOPTest,0.00000000000000001,60))\n",
    "    \n",
    "print(sgd(HOFTrain,HOPTrain,HOFTest,HOPTest,0.00000000000000001,3000))\n",
    "\n",
    "print(mbgd(HOFTrain,HOPTrain,HOFTest,HOPTest,0.000000000000000001,5,6000))"
   ]
  },
  {
   "cell_type": "markdown",
   "id": "0a6fc1a9-1abc-4da1-9437-3d5650f0788b",
   "metadata": {},
   "source": [
    "## Part C\n",
    "### With feature scaling, with higher order terms, with regularization."
   ]
  },
  {
   "cell_type": "code",
   "execution_count": 693,
   "id": "d9fbdb59-9c42-4b76-ba32-7dd5ca90336b",
   "metadata": {},
   "outputs": [
    {
     "name": "stdout",
     "output_type": "stream",
     "text": [
      "10.0\n",
      "16.666666666666664\n",
      "13.333333333333334\n"
     ]
    }
   ],
   "source": [
    "print(bgd_reg(HOFTrain,HOPTrain,HOFTest,HOPTest,0.000000000000001,1,1))\n",
    "\n",
    "print(sgd_reg(HOFTrain,HOPTrain,HOFTest,HOPTest,0.0000000000000001,500,1))\n",
    "\n",
    "print(mbgd_reg(HOFTrain,HOPTrain,HOFTest,HOPTest,0.0000000000000001,10,50,2))"
   ]
  },
  {
   "cell_type": "markdown",
   "id": "349e13fa-20da-4586-9998-f762adf1e048",
   "metadata": {},
   "source": [
    "# Q2"
   ]
  },
  {
   "cell_type": "markdown",
   "id": "2b92dcfd-2bf0-43ec-903d-cc7328ab9de3",
   "metadata": {},
   "source": [
    "### Imports"
   ]
  },
  {
   "cell_type": "code",
   "execution_count": 881,
   "id": "84883b75-3bbd-4570-8dd6-ce720f808595",
   "metadata": {},
   "outputs": [],
   "source": [
    "import sklearn\n",
    "from sklearn.preprocessing import StandardScaler\n",
    "from sklearn.discriminant_analysis import LinearDiscriminantAnalysis as LDA\n",
    "from sklearn.decomposition import PCA\n",
    "from sklearn.manifold import TSNE\n",
    "from sklearn.metrics import confusion_matrix,ConfusionMatrixDisplay"
   ]
  },
  {
   "cell_type": "code",
   "execution_count": 861,
   "id": "6fd0afe0-1e32-4038-b445-18d69c671748",
   "metadata": {},
   "outputs": [
    {
     "name": "stdout",
     "output_type": "stream",
     "text": [
      "      age  sex  cptype  restbp   chol  fbs  restecg  thalach  exang  oldpeak  \\\n",
      "0    63.0  1.0     1.0   145.0  233.0  1.0      2.0    150.0    0.0      2.3   \n",
      "1    67.0  1.0     4.0   160.0  286.0  0.0      2.0    108.0    1.0      1.5   \n",
      "2    67.0  1.0     4.0   120.0  229.0  0.0      2.0    129.0    1.0      2.6   \n",
      "3    37.0  1.0     3.0   130.0  250.0  0.0      0.0    187.0    0.0      3.5   \n",
      "4    41.0  0.0     2.0   130.0  204.0  0.0      2.0    172.0    0.0      1.4   \n",
      "..    ...  ...     ...     ...    ...  ...      ...      ...    ...      ...   \n",
      "298  45.0  1.0     1.0   110.0  264.0  0.0      0.0    132.0    0.0      1.2   \n",
      "299  68.0  1.0     4.0   144.0  193.0  1.0      0.0    141.0    0.0      3.4   \n",
      "300  57.0  1.0     4.0   130.0  131.0  0.0      0.0    115.0    1.0      1.2   \n",
      "301  57.0  0.0     2.0   130.0  236.0  0.0      2.0    174.0    0.0      0.0   \n",
      "302  38.0  1.0     3.0   138.0  175.0  0.0      0.0    173.0    0.0      0.0   \n",
      "\n",
      "     slope   ca  thal  label  \n",
      "0      3.0  0.0   6.0      0  \n",
      "1      2.0  3.0   3.0      1  \n",
      "2      2.0  2.0   7.0      1  \n",
      "3      3.0  0.0   3.0      0  \n",
      "4      1.0  0.0   3.0      0  \n",
      "..     ...  ...   ...    ...  \n",
      "298    2.0  0.0   7.0      1  \n",
      "299    2.0  2.0   7.0      1  \n",
      "300    2.0  1.0   7.0      1  \n",
      "301    2.0  1.0   3.0      1  \n",
      "302    1.0  1.0   3.0      0  \n",
      "\n",
      "[303 rows x 14 columns]\n"
     ]
    }
   ],
   "source": [
    "url = \"https://raw.githubusercontent.com/Sankalp2002/IML_datasets/main/heart_disease.csv\"\n",
    "download = requests.get(url).content\n",
    "df = pd.read_csv(io.StringIO(download.decode('utf-8')))\n",
    "print(df)\n",
    "#dividing into training and testing parts\n",
    "df_test=df.iloc[212:303]\n",
    "df_train=df.iloc[0:212]"
   ]
  },
  {
   "cell_type": "markdown",
   "id": "c858311f-b85c-46a2-8b93-8a49ebcaf3a9",
   "metadata": {},
   "source": [
    "### Using T-SNE to visualise the Heart Disease dataset in 2D"
   ]
  },
  {
   "cell_type": "code",
   "execution_count": 863,
   "id": "49692ecf-899e-4f7d-b1a6-f28d2c09d35c",
   "metadata": {},
   "outputs": [
    {
     "data": {
      "text/plain": [
       "Text(0.5, 1.0, 'Using T-SNE to visualise the Heart Disease dataset in 2D')"
      ]
     },
     "execution_count": 863,
     "metadata": {},
     "output_type": "execute_result"
    },
    {
     "data": {
      "image/png": "[encoded data removed]",
      "text/plain": [
       "<Figure size 640x480 with 1 Axes>"
      ]
     },
     "metadata": {
      "needs_background": "light"
     },
     "output_type": "display_data"
    }
   ],
   "source": [
    "y_train=df_train.iloc[:,13]\n",
    "X_train=df_train.drop(['label'], axis=1)\n",
    "y_test=df_test.iloc[:,13]\n",
    "X_test=df_test.drop(['label'], axis=1)\n",
    "\n",
    "sc = StandardScaler()\n",
    "X_train = sc.fit_transform(X_train)\n",
    "X_test = sc.fit_transform(X_test)\n",
    "\n",
    "tsne = TSNE(n_components=2, random_state=0, perplexity=50)\n",
    "tsne_result = tsne.fit_transform(X_train) \n",
    "\n",
    "X_train0=tsne_result[:,0]\n",
    "X_train1=tsne_result[:,1]\n",
    "tsne_train=list(zip(list(X_train0),list(X_train1),list(y_train)))\n",
    "tsne_train=pd.DataFrame (tsne_train, columns = ['a','b','c'])\n",
    "\n",
    "tsne_testset=tsne.fit_transform(X_test) \n",
    "\n",
    "plt.figure(figsize=(8, 6), dpi=80)\n",
    "groups = tsne_train.groupby('c')\n",
    "for name, group in groups:\n",
    "    plt.plot(group['a'], group['b'], marker='o', linestyle='', markersize=5,label=name)\n",
    "plt.xlabel('a')\n",
    "plt.ylabel('b')\n",
    "plt.legend()\n",
    "plt.title('Using T-SNE to visualise the Heart Disease dataset in 2D')"
   ]
  },
  {
   "cell_type": "markdown",
   "id": "b3f3ff42-6f2e-410d-80fa-fe8780cefb68",
   "metadata": {},
   "source": [
    "### Performing PCA on data to reduce to 4 dimensions"
   ]
  },
  {
   "cell_type": "code",
   "execution_count": 864,
   "id": "a7bf3b4b-bc18-4be7-a4a6-92c1480b47a5",
   "metadata": {},
   "outputs": [],
   "source": [
    "y_train=df_train.iloc[:,13]\n",
    "X_train=df_train.drop(['label'], axis=1)\n",
    "y_test=df_test.iloc[:,13]\n",
    "X_test=df_test.drop(['label'], axis=1)\n",
    "\n",
    "sc = StandardScaler()\n",
    "X_train = sc.fit_transform(X_train)\n",
    "X_test = sc.fit_transform(X_test)\n",
    "\n",
    "pca = PCA(n_components=4)\n",
    "pca_result = pca.fit_transform(X_train,y_train)\n",
    "\n",
    "X_train0=pca_result[:,0]\n",
    "X_train1=pca_result[:,1]\n",
    "X_train2=pca_result[:,2]\n",
    "X_train3=pca_result[:,3]\n",
    "pca_train=list(zip(list(X_train0),list(X_train1),list(X_train2),list(X_train3)))\n",
    "# pca_train=pd.DataFrame (pca_train, columns = ['a','b','c','d','e'])\n",
    "pca_testset=pca.fit_transform(X_test) "
   ]
  },
  {
   "cell_type": "markdown",
   "id": "4c2f152d-2059-486c-8b2f-e15de404cc04",
   "metadata": {},
   "source": [
    "## Performing batch gradient descent which prints error %"
   ]
  },
  {
   "cell_type": "code",
   "execution_count": 877,
   "id": "9abb34e7-e89f-4d8d-b66b-426dd4a79d59",
   "metadata": {},
   "outputs": [
    {
     "data": {
      "text/plain": [
       "17.582417582417584"
      ]
     },
     "execution_count": 877,
     "metadata": {},
     "output_type": "execute_result"
    }
   ],
   "source": [
    "bgd(pca_train,list(y_train),list(pca_testset),list(y_test),0.001,10000)"
   ]
  },
  {
   "cell_type": "markdown",
   "id": "6fadff6e-4ed5-4c48-b881-b445da0e154b",
   "metadata": {},
   "source": [
    "## Classifier that returns predicted labels list"
   ]
  },
  {
   "cell_type": "code",
   "execution_count": 878,
   "id": "455f9c90-d8fc-4bae-8b5d-9ca27ec61eb4",
   "metadata": {},
   "outputs": [],
   "source": [
    "def classifier(F1,P1,F2,P2,rate,iters):\n",
    "    clen=np.shape(F1)[1]\n",
    "    Coeff = [0]*clen\n",
    "    for i in range(iters):#50000\n",
    "        Temp= Coeff\n",
    "        for j in range(len(Coeff)):\n",
    "            Temp[j] = Temp[j] - ((rate / len(F1)) * (Slopebgd(Coeff, F1, P1, j)))\n",
    "        Coeff = Temp\n",
    "    pred_list = []\n",
    "    for i in range(len(F2)):\n",
    "        predicted = 0\n",
    "        for j in range(len(Coeff)):\n",
    "            predicted = predicted + Coeff[j] * F2[i][j]\n",
    "        if (sig(predicted)>=0.5):\n",
    "            pred_list.append(1)\n",
    "        else:\n",
    "            pred_list.append(0)\n",
    "    return pred_list"
   ]
  },
  {
   "cell_type": "markdown",
   "id": "bdf00970-0436-4663-b413-4d2fa61b3a38",
   "metadata": {},
   "source": [
    "### Displaying Confusion matrix"
   ]
  },
  {
   "cell_type": "code",
   "execution_count": 879,
   "id": "97592a63-3f86-464b-95a6-c2afab22ba01",
   "metadata": {},
   "outputs": [
    {
     "name": "stdout",
     "output_type": "stream",
     "text": [
      "[[41  7]\n",
      " [10 33]]\n"
     ]
    }
   ],
   "source": [
    "pred_list=classifier(pca_train,list(y_train),list(pca_testset),list(y_test),0.01,100000)\n",
    "con_mat=confusion_matrix(list(y_test),pred_list)\n",
    "print(con_mat)"
   ]
  },
  {
   "cell_type": "code",
   "execution_count": 882,
   "id": "780e7044-3e7a-47bb-82a4-038833a5e28a",
   "metadata": {},
   "outputs": [
    {
     "data": {
      "image/png": "[encoded data removed]",
      "text/plain": [
       "<Figure size 432x288 with 2 Axes>"
      ]
     },
     "metadata": {
      "needs_background": "light"
     },
     "output_type": "display_data"
    }
   ],
   "source": [
    "disp = ConfusionMatrixDisplay(confusion_matrix=con_mat)\n",
    "disp.plot()\n",
    "plt.show()"
   ]
  }
 ],
 "metadata": {
  "kernelspec": {
   "display_name": "IML",
   "language": "python",
   "name": "iml_kernel"
  },
  "language_info": {
   "codemirror_mode": {
    "name": "ipython",
    "version": 3
   },
   "file_extension": ".py",
   "mimetype": "text/x-python",
   "name": "python",
   "nbconvert_exporter": "python",
   "pygments_lexer": "ipython3",
   "version": "3.9.7"
  }
 },
 "nbformat": 4,
 "nbformat_minor": 5
}
