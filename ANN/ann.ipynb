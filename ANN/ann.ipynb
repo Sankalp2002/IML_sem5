{
 "cells": [
  {
   "cell_type": "markdown",
   "id": "3d152ab1-bee7-43da-8b51-e13da576841c",
   "metadata": {},
   "source": [
    "## Importing modules"
   ]
  },
  {
   "cell_type": "code",
   "execution_count": 1,
   "id": "62b3f1e2-197f-4ec4-b6d9-b977494fbec4",
   "metadata": {},
   "outputs": [],
   "source": [
    "import numpy as np\n",
    "import pandas as pd\n",
    "import random\n",
    "import matplotlib.pyplot as plt\n",
    "import math\n",
    "import requests\n",
    "import io"
   ]
  },
  {
   "cell_type": "markdown",
   "id": "0d80e84f-78bb-4a7a-99c8-9712c252c64c",
   "metadata": {},
   "source": [
    "# Q1"
   ]
  },
  {
   "cell_type": "markdown",
   "id": "465bdf3b-486e-4ecb-b21b-67851f0938c7",
   "metadata": {},
   "source": [
    "### Importing Dataset"
   ]
  },
  {
   "cell_type": "code",
   "execution_count": 2,
   "id": "96317207-6831-401d-948b-45e32210482c",
   "metadata": {},
   "outputs": [
    {
     "data": {
      "text/html": [
       "<div>\n",
       "<style scoped>\n",
       "    .dataframe tbody tr th:only-of-type {\n",
       "        vertical-align: middle;\n",
       "    }\n",
       "\n",
       "    .dataframe tbody tr th {\n",
       "        vertical-align: top;\n",
       "    }\n",
       "\n",
       "    .dataframe thead th {\n",
       "        text-align: right;\n",
       "    }\n",
       "</style>\n",
       "<table border=\"1\" class=\"dataframe\">\n",
       "  <thead>\n",
       "    <tr style=\"text-align: right;\">\n",
       "      <th></th>\n",
       "      <th>temperature</th>\n",
       "      <th>occurrence_of_nausea</th>\n",
       "      <th>lumbar_pain</th>\n",
       "      <th>urine_pushing</th>\n",
       "      <th>micturition_pains</th>\n",
       "      <th>burning_of_urethra</th>\n",
       "      <th>nephritis_of_renal_pelvis_origin</th>\n",
       "      <th>inflammation_of_urinary_bladder</th>\n",
       "    </tr>\n",
       "  </thead>\n",
       "  <tbody>\n",
       "    <tr>\n",
       "      <th>0</th>\n",
       "      <td>35.5</td>\n",
       "      <td>no</td>\n",
       "      <td>yes</td>\n",
       "      <td>no</td>\n",
       "      <td>no</td>\n",
       "      <td>no</td>\n",
       "      <td>no</td>\n",
       "      <td>no</td>\n",
       "    </tr>\n",
       "    <tr>\n",
       "      <th>1</th>\n",
       "      <td>35.9</td>\n",
       "      <td>no</td>\n",
       "      <td>no</td>\n",
       "      <td>yes</td>\n",
       "      <td>yes</td>\n",
       "      <td>yes</td>\n",
       "      <td>no</td>\n",
       "      <td>yes</td>\n",
       "    </tr>\n",
       "    <tr>\n",
       "      <th>2</th>\n",
       "      <td>35.9</td>\n",
       "      <td>no</td>\n",
       "      <td>yes</td>\n",
       "      <td>no</td>\n",
       "      <td>no</td>\n",
       "      <td>no</td>\n",
       "      <td>no</td>\n",
       "      <td>no</td>\n",
       "    </tr>\n",
       "    <tr>\n",
       "      <th>3</th>\n",
       "      <td>36.0</td>\n",
       "      <td>no</td>\n",
       "      <td>no</td>\n",
       "      <td>yes</td>\n",
       "      <td>yes</td>\n",
       "      <td>yes</td>\n",
       "      <td>no</td>\n",
       "      <td>yes</td>\n",
       "    </tr>\n",
       "    <tr>\n",
       "      <th>4</th>\n",
       "      <td>36.0</td>\n",
       "      <td>no</td>\n",
       "      <td>yes</td>\n",
       "      <td>no</td>\n",
       "      <td>no</td>\n",
       "      <td>no</td>\n",
       "      <td>no</td>\n",
       "      <td>no</td>\n",
       "    </tr>\n",
       "    <tr>\n",
       "      <th>...</th>\n",
       "      <td>...</td>\n",
       "      <td>...</td>\n",
       "      <td>...</td>\n",
       "      <td>...</td>\n",
       "      <td>...</td>\n",
       "      <td>...</td>\n",
       "      <td>...</td>\n",
       "      <td>...</td>\n",
       "    </tr>\n",
       "    <tr>\n",
       "      <th>115</th>\n",
       "      <td>41.4</td>\n",
       "      <td>no</td>\n",
       "      <td>yes</td>\n",
       "      <td>yes</td>\n",
       "      <td>no</td>\n",
       "      <td>yes</td>\n",
       "      <td>yes</td>\n",
       "      <td>no</td>\n",
       "    </tr>\n",
       "    <tr>\n",
       "      <th>116</th>\n",
       "      <td>41.5</td>\n",
       "      <td>no</td>\n",
       "      <td>no</td>\n",
       "      <td>no</td>\n",
       "      <td>no</td>\n",
       "      <td>no</td>\n",
       "      <td>no</td>\n",
       "      <td>no</td>\n",
       "    </tr>\n",
       "    <tr>\n",
       "      <th>117</th>\n",
       "      <td>41.5</td>\n",
       "      <td>yes</td>\n",
       "      <td>yes</td>\n",
       "      <td>no</td>\n",
       "      <td>yes</td>\n",
       "      <td>no</td>\n",
       "      <td>yes</td>\n",
       "      <td>no</td>\n",
       "    </tr>\n",
       "    <tr>\n",
       "      <th>118</th>\n",
       "      <td>41.5</td>\n",
       "      <td>no</td>\n",
       "      <td>yes</td>\n",
       "      <td>yes</td>\n",
       "      <td>no</td>\n",
       "      <td>yes</td>\n",
       "      <td>yes</td>\n",
       "      <td>no</td>\n",
       "    </tr>\n",
       "    <tr>\n",
       "      <th>119</th>\n",
       "      <td>41.5</td>\n",
       "      <td>no</td>\n",
       "      <td>yes</td>\n",
       "      <td>yes</td>\n",
       "      <td>no</td>\n",
       "      <td>yes</td>\n",
       "      <td>yes</td>\n",
       "      <td>no</td>\n",
       "    </tr>\n",
       "  </tbody>\n",
       "</table>\n",
       "<p>120 rows × 8 columns</p>\n",
       "</div>"
      ],
      "text/plain": [
       "     temperature  occurrence_of_nausea  lumbar_pain  urine_pushing  \\\n",
       "0           35.5                    no          yes             no   \n",
       "1           35.9                    no           no            yes   \n",
       "2           35.9                    no          yes             no   \n",
       "3           36.0                    no           no            yes   \n",
       "4           36.0                    no          yes             no   \n",
       "..           ...                   ...          ...            ...   \n",
       "115         41.4                    no          yes            yes   \n",
       "116         41.5                    no           no             no   \n",
       "117         41.5                   yes          yes             no   \n",
       "118         41.5                    no          yes            yes   \n",
       "119         41.5                    no          yes            yes   \n",
       "\n",
       "     micturition_pains  burning_of_urethra  nephritis_of_renal_pelvis_origin  \\\n",
       "0                   no                  no                                no   \n",
       "1                  yes                 yes                                no   \n",
       "2                   no                  no                                no   \n",
       "3                  yes                 yes                                no   \n",
       "4                   no                  no                                no   \n",
       "..                 ...                 ...                               ...   \n",
       "115                 no                 yes                               yes   \n",
       "116                 no                  no                                no   \n",
       "117                yes                  no                               yes   \n",
       "118                 no                 yes                               yes   \n",
       "119                 no                 yes                               yes   \n",
       "\n",
       "     inflammation_of_urinary_bladder  \n",
       "0                                 no  \n",
       "1                                yes  \n",
       "2                                 no  \n",
       "3                                yes  \n",
       "4                                 no  \n",
       "..                               ...  \n",
       "115                               no  \n",
       "116                               no  \n",
       "117                               no  \n",
       "118                               no  \n",
       "119                               no  \n",
       "\n",
       "[120 rows x 8 columns]"
      ]
     },
     "execution_count": 2,
     "metadata": {},
     "output_type": "execute_result"
    }
   ],
   "source": [
    "url = \"https://raw.githubusercontent.com/Sankalp2002/IML_datasets/main/ann_dataset.csv\"\n",
    "download = requests.get(url).content\n",
    "df = pd.read_csv(io.StringIO(download.decode('utf-8')))\n",
    "df"
   ]
  },
  {
   "cell_type": "markdown",
   "id": "679c6671-4fb6-4205-b218-e848ae302099",
   "metadata": {},
   "source": [
    "### Min-Max Scaling"
   ]
  },
  {
   "cell_type": "code",
   "execution_count": 8,
   "id": "8f04c9fd-6f24-48be-b626-0eb221b7c89b",
   "metadata": {},
   "outputs": [],
   "source": [
    "def scale(A):\n",
    "    _max=max(A)\n",
    "    _min=min(A)\n",
    "    scaled=[((i - _min) / (_max - _min)) for i in A]\n",
    "    return scaled"
   ]
  },
  {
   "cell_type": "markdown",
   "id": "42f6321d-a3dd-4185-a37c-f9884b950285",
   "metadata": {},
   "source": [
    "### Part 1 : encoding data as 0/1 and scaling temperature feature"
   ]
  },
  {
   "cell_type": "code",
   "execution_count": 77,
   "id": "a3d28416-2087-40ce-9599-e10ae5644206",
   "metadata": {},
   "outputs": [
    {
     "data": {
      "text/html": [
       "<div>\n",
       "<style scoped>\n",
       "    .dataframe tbody tr th:only-of-type {\n",
       "        vertical-align: middle;\n",
       "    }\n",
       "\n",
       "    .dataframe tbody tr th {\n",
       "        vertical-align: top;\n",
       "    }\n",
       "\n",
       "    .dataframe thead th {\n",
       "        text-align: right;\n",
       "    }\n",
       "</style>\n",
       "<table border=\"1\" class=\"dataframe\">\n",
       "  <thead>\n",
       "    <tr style=\"text-align: right;\">\n",
       "      <th></th>\n",
       "      <th>temperature</th>\n",
       "      <th>occurrence_of_nausea</th>\n",
       "      <th>lumbar_pain</th>\n",
       "      <th>urine_pushing</th>\n",
       "      <th>micturition_pains</th>\n",
       "      <th>burning_of_urethra</th>\n",
       "      <th>nephritis_of_renal_pelvis_origin</th>\n",
       "      <th>inflammation_of_urinary_bladder</th>\n",
       "    </tr>\n",
       "  </thead>\n",
       "  <tbody>\n",
       "    <tr>\n",
       "      <th>0</th>\n",
       "      <td>0.000000</td>\n",
       "      <td>0</td>\n",
       "      <td>1</td>\n",
       "      <td>0</td>\n",
       "      <td>0</td>\n",
       "      <td>0</td>\n",
       "      <td>0</td>\n",
       "      <td>0</td>\n",
       "    </tr>\n",
       "    <tr>\n",
       "      <th>1</th>\n",
       "      <td>0.066667</td>\n",
       "      <td>0</td>\n",
       "      <td>0</td>\n",
       "      <td>1</td>\n",
       "      <td>1</td>\n",
       "      <td>1</td>\n",
       "      <td>0</td>\n",
       "      <td>1</td>\n",
       "    </tr>\n",
       "    <tr>\n",
       "      <th>2</th>\n",
       "      <td>0.066667</td>\n",
       "      <td>0</td>\n",
       "      <td>1</td>\n",
       "      <td>0</td>\n",
       "      <td>0</td>\n",
       "      <td>0</td>\n",
       "      <td>0</td>\n",
       "      <td>0</td>\n",
       "    </tr>\n",
       "    <tr>\n",
       "      <th>3</th>\n",
       "      <td>0.083333</td>\n",
       "      <td>0</td>\n",
       "      <td>0</td>\n",
       "      <td>1</td>\n",
       "      <td>1</td>\n",
       "      <td>1</td>\n",
       "      <td>0</td>\n",
       "      <td>1</td>\n",
       "    </tr>\n",
       "    <tr>\n",
       "      <th>4</th>\n",
       "      <td>0.083333</td>\n",
       "      <td>0</td>\n",
       "      <td>1</td>\n",
       "      <td>0</td>\n",
       "      <td>0</td>\n",
       "      <td>0</td>\n",
       "      <td>0</td>\n",
       "      <td>0</td>\n",
       "    </tr>\n",
       "    <tr>\n",
       "      <th>...</th>\n",
       "      <td>...</td>\n",
       "      <td>...</td>\n",
       "      <td>...</td>\n",
       "      <td>...</td>\n",
       "      <td>...</td>\n",
       "      <td>...</td>\n",
       "      <td>...</td>\n",
       "      <td>...</td>\n",
       "    </tr>\n",
       "    <tr>\n",
       "      <th>115</th>\n",
       "      <td>0.983333</td>\n",
       "      <td>0</td>\n",
       "      <td>1</td>\n",
       "      <td>1</td>\n",
       "      <td>0</td>\n",
       "      <td>1</td>\n",
       "      <td>1</td>\n",
       "      <td>0</td>\n",
       "    </tr>\n",
       "    <tr>\n",
       "      <th>116</th>\n",
       "      <td>1.000000</td>\n",
       "      <td>0</td>\n",
       "      <td>0</td>\n",
       "      <td>0</td>\n",
       "      <td>0</td>\n",
       "      <td>0</td>\n",
       "      <td>0</td>\n",
       "      <td>0</td>\n",
       "    </tr>\n",
       "    <tr>\n",
       "      <th>117</th>\n",
       "      <td>1.000000</td>\n",
       "      <td>1</td>\n",
       "      <td>1</td>\n",
       "      <td>0</td>\n",
       "      <td>1</td>\n",
       "      <td>0</td>\n",
       "      <td>1</td>\n",
       "      <td>0</td>\n",
       "    </tr>\n",
       "    <tr>\n",
       "      <th>118</th>\n",
       "      <td>1.000000</td>\n",
       "      <td>0</td>\n",
       "      <td>1</td>\n",
       "      <td>1</td>\n",
       "      <td>0</td>\n",
       "      <td>1</td>\n",
       "      <td>1</td>\n",
       "      <td>0</td>\n",
       "    </tr>\n",
       "    <tr>\n",
       "      <th>119</th>\n",
       "      <td>1.000000</td>\n",
       "      <td>0</td>\n",
       "      <td>1</td>\n",
       "      <td>1</td>\n",
       "      <td>0</td>\n",
       "      <td>1</td>\n",
       "      <td>1</td>\n",
       "      <td>0</td>\n",
       "    </tr>\n",
       "  </tbody>\n",
       "</table>\n",
       "<p>120 rows × 8 columns</p>\n",
       "</div>"
      ],
      "text/plain": [
       "     temperature   occurrence_of_nausea   lumbar_pain   urine_pushing  \\\n",
       "0       0.000000                      0             1               0   \n",
       "1       0.066667                      0             0               1   \n",
       "2       0.066667                      0             1               0   \n",
       "3       0.083333                      0             0               1   \n",
       "4       0.083333                      0             1               0   \n",
       "..           ...                    ...           ...             ...   \n",
       "115     0.983333                      0             1               1   \n",
       "116     1.000000                      0             0               0   \n",
       "117     1.000000                      1             1               0   \n",
       "118     1.000000                      0             1               1   \n",
       "119     1.000000                      0             1               1   \n",
       "\n",
       "      micturition_pains   burning_of_urethra  \\\n",
       "0                     0                    0   \n",
       "1                     1                    1   \n",
       "2                     0                    0   \n",
       "3                     1                    1   \n",
       "4                     0                    0   \n",
       "..                  ...                  ...   \n",
       "115                   0                    1   \n",
       "116                   0                    0   \n",
       "117                   1                    0   \n",
       "118                   0                    1   \n",
       "119                   0                    1   \n",
       "\n",
       "      nephritis_of_renal_pelvis_origin   inflammation_of_urinary_bladder  \n",
       "0                                    0                                 0  \n",
       "1                                    0                                 1  \n",
       "2                                    0                                 0  \n",
       "3                                    0                                 1  \n",
       "4                                    0                                 0  \n",
       "..                                 ...                               ...  \n",
       "115                                  1                                 0  \n",
       "116                                  0                                 0  \n",
       "117                                  1                                 0  \n",
       "118                                  1                                 0  \n",
       "119                                  1                                 0  \n",
       "\n",
       "[120 rows x 8 columns]"
      ]
     },
     "execution_count": 77,
     "metadata": {},
     "output_type": "execute_result"
    }
   ],
   "source": [
    "for col in df:    \n",
    "    if isinstance(df[col][0],str):\n",
    "        df[col] = df[col].map(lambda x: x.replace('yes', '1'))\n",
    "        df[col] = df[col].map(lambda x: x.replace('no', '0'))\n",
    "        df[col] = df[col].astype(\"int64\")\n",
    "df['temperature']=scale(list(df['temperature']))\n",
    "df"
   ]
  },
  {
   "cell_type": "markdown",
   "id": "472ea4b0-2ca8-4299-9ad9-aa630ee3a334",
   "metadata": {},
   "source": [
    "## Dividing 120 datapoints into lists of training and testing set: 100 for training and 20 for testing"
   ]
  },
  {
   "cell_type": "markdown",
   "id": "f70e0947-f0e5-4e6f-86e2-1f28162ed46d",
   "metadata": {},
   "source": [
    "Bias term is added at the end of features"
   ]
  },
  {
   "cell_type": "code",
   "execution_count": 106,
   "id": "fd52bf68-7db5-493c-99fa-28b5bb332362",
   "metadata": {},
   "outputs": [
    {
     "data": {
      "text/plain": [
       "[(0.0, 0, 1, 0, 0, 0, 1),\n",
       " (0.06666666666666643, 0, 0, 1, 1, 1, 1),\n",
       " (0.06666666666666643, 0, 1, 0, 0, 0, 1),\n",
       " (0.08333333333333331, 0, 0, 1, 1, 1, 1),\n",
       " (0.08333333333333331, 0, 1, 0, 0, 0, 1),\n",
       " (0.08333333333333331, 0, 1, 0, 0, 0, 1),\n",
       " (0.11666666666666714, 0, 0, 1, 1, 1, 1),\n",
       " (0.11666666666666714, 0, 1, 0, 0, 0, 1),\n",
       " (0.13333333333333286, 0, 0, 1, 1, 1, 1),\n",
       " (0.18333333333333357, 0, 0, 1, 1, 1, 1),\n",
       " (0.18333333333333357, 0, 0, 1, 1, 1, 1),\n",
       " (0.18333333333333357, 0, 1, 0, 0, 0, 1),\n",
       " (0.18333333333333357, 0, 1, 0, 0, 0, 1),\n",
       " (0.20000000000000046, 0, 0, 1, 1, 1, 1),\n",
       " (0.20000000000000046, 0, 1, 0, 0, 0, 1),\n",
       " (0.20000000000000046, 0, 1, 0, 0, 0, 1),\n",
       " (0.21666666666666617, 0, 0, 1, 1, 1, 1),\n",
       " (0.21666666666666617, 0, 0, 1, 1, 1, 1),\n",
       " (0.23333333333333311, 0, 0, 1, 1, 1, 1),\n",
       " (0.23333333333333311, 0, 1, 0, 0, 0, 1),\n",
       " (0.25, 0, 0, 1, 1, 0, 1),\n",
       " (0.25, 0, 0, 1, 1, 0, 1),\n",
       " (0.25, 0, 1, 0, 0, 0, 1),\n",
       " (0.25, 0, 0, 1, 1, 1, 1),\n",
       " (0.25, 0, 0, 1, 1, 1, 1),\n",
       " (0.25, 0, 0, 1, 1, 1, 1),\n",
       " (0.25, 0, 0, 1, 1, 1, 1),\n",
       " (0.25, 0, 0, 1, 0, 0, 1),\n",
       " (0.2666666666666669, 0, 1, 0, 0, 0, 1),\n",
       " (0.2666666666666669, 0, 0, 1, 1, 1, 1),\n",
       " (0.2666666666666669, 0, 0, 1, 0, 0, 1),\n",
       " (0.2833333333333338, 0, 0, 1, 1, 0, 1),\n",
       " (0.2833333333333338, 0, 1, 0, 0, 0, 1),\n",
       " (0.2833333333333338, 0, 0, 1, 0, 0, 1),\n",
       " (0.2999999999999995, 0, 1, 0, 0, 0, 1),\n",
       " (0.2999999999999995, 0, 0, 1, 1, 1, 1),\n",
       " (0.2999999999999995, 0, 0, 1, 0, 0, 1),\n",
       " (0.31666666666666643, 0, 1, 0, 0, 0, 1),\n",
       " (0.31666666666666643, 0, 0, 1, 0, 0, 1),\n",
       " (0.33333333333333337, 0, 0, 1, 1, 0, 1),\n",
       " (0.33333333333333337, 0, 1, 0, 0, 0, 1),\n",
       " (0.33333333333333337, 0, 1, 0, 0, 0, 1),\n",
       " (0.33333333333333337, 0, 0, 1, 1, 1, 1),\n",
       " (0.33333333333333337, 0, 0, 1, 0, 0, 1),\n",
       " (0.33333333333333337, 0, 0, 1, 0, 0, 1),\n",
       " (0.3500000000000002, 0, 0, 1, 1, 0, 1),\n",
       " (0.3500000000000002, 0, 0, 1, 1, 0, 1),\n",
       " (0.3500000000000002, 0, 0, 1, 1, 1, 1),\n",
       " (0.36666666666666714, 0, 0, 1, 1, 0, 1),\n",
       " (0.36666666666666714, 0, 0, 1, 1, 0, 1),\n",
       " (0.36666666666666714, 0, 1, 0, 0, 0, 1),\n",
       " (0.36666666666666714, 0, 0, 1, 0, 0, 1),\n",
       " (0.38333333333333286, 0, 1, 0, 0, 0, 1),\n",
       " (0.38333333333333286, 0, 0, 1, 1, 1, 1),\n",
       " (0.38333333333333286, 0, 0, 1, 0, 0, 1),\n",
       " (0.3999999999999998, 0, 0, 1, 1, 0, 1),\n",
       " (0.3999999999999998, 0, 0, 1, 1, 0, 1),\n",
       " (0.3999999999999998, 0, 1, 0, 0, 0, 1),\n",
       " (0.3999999999999998, 0, 0, 1, 1, 1, 1),\n",
       " (0.3999999999999998, 0, 0, 1, 0, 0, 1),\n",
       " (0.4166666666666667, 0, 1, 1, 0, 1, 1),\n",
       " (0.4166666666666667, 0, 1, 1, 0, 1, 1),\n",
       " (0.43333333333333357, 0, 1, 1, 0, 1, 1),\n",
       " (0.4666666666666662, 0, 1, 1, 0, 1, 1),\n",
       " (0.5, 0, 1, 1, 0, 1, 1),\n",
       " (0.5333333333333338, 0, 1, 1, 0, 1, 1),\n",
       " (0.5666666666666664, 0, 1, 1, 0, 1, 1),\n",
       " (0.5833333333333334, 0, 1, 1, 0, 1, 1),\n",
       " (0.6499999999999998, 0, 1, 1, 0, 1, 1),\n",
       " (0.7000000000000005, 0, 1, 1, 0, 1, 1),\n",
       " (0.75, 1, 1, 1, 1, 1, 1),\n",
       " (0.75, 1, 1, 1, 1, 1, 1),\n",
       " (0.75, 1, 1, 1, 1, 0, 1),\n",
       " (0.75, 0, 0, 0, 0, 0, 1),\n",
       " (0.75, 0, 0, 0, 0, 0, 1),\n",
       " (0.75, 1, 1, 0, 1, 0, 1),\n",
       " (0.75, 1, 1, 0, 1, 0, 1),\n",
       " (0.75, 0, 1, 1, 0, 1, 1),\n",
       " (0.7666666666666669, 1, 1, 1, 1, 0, 1),\n",
       " (0.7833333333333338, 1, 1, 1, 1, 1, 1),\n",
       " (0.7833333333333338, 0, 0, 0, 0, 0, 1),\n",
       " (0.7833333333333338, 1, 1, 0, 1, 0, 1),\n",
       " (0.7999999999999996, 0, 1, 1, 0, 1, 1),\n",
       " (0.8166666666666664, 1, 1, 1, 1, 1, 1),\n",
       " (0.8166666666666664, 1, 1, 1, 1, 0, 1),\n",
       " (0.8166666666666664, 1, 1, 1, 1, 0, 1),\n",
       " (0.8166666666666664, 0, 0, 0, 0, 0, 1),\n",
       " (0.8166666666666664, 1, 1, 0, 1, 0, 1),\n",
       " (0.8333333333333333, 1, 1, 1, 1, 0, 1),\n",
       " (0.8500000000000003, 1, 1, 1, 1, 1, 1),\n",
       " (0.8500000000000003, 0, 0, 0, 0, 0, 1),\n",
       " (0.8500000000000003, 1, 1, 0, 1, 0, 1),\n",
       " (0.8666666666666671, 1, 1, 1, 1, 1, 1),\n",
       " (0.8666666666666671, 1, 1, 1, 1, 0, 1),\n",
       " (0.8666666666666671, 0, 0, 0, 0, 0, 1),\n",
       " (0.8666666666666671, 1, 1, 0, 1, 0, 1),\n",
       " (0.8666666666666671, 0, 1, 1, 0, 1, 1),\n",
       " (0.8833333333333329, 0, 1, 1, 0, 1, 1),\n",
       " (0.8999999999999997, 1, 1, 1, 1, 0, 1),\n",
       " (0.8999999999999997, 1, 1, 1, 1, 0, 1)]"
      ]
     },
     "execution_count": 106,
     "metadata": {},
     "output_type": "execute_result"
    }
   ],
   "source": [
    "df_train=df.iloc[0:100]\n",
    "df_test=df.iloc[100:120]\n",
    "\n",
    "y0 = (list(df_train.iloc[:,6]))\n",
    "y1 = (list(df_train.iloc[:,7]))\n",
    "x0 = [1]*len(y0)\n",
    "x1 = (list(df_train.iloc[:,0]))\n",
    "x2 = (list(df_train.iloc[:,1]))\n",
    "x3 = (list(df_train.iloc[:,2]))\n",
    "x4 = (list(df_train.iloc[:,3]))\n",
    "x5 = (list(df_train.iloc[:,4]))\n",
    "x6 = (list(df_train.iloc[:,5]))\n",
    "FTrain=list(zip(x1,x2,x3,x4,x5,x6,x0))\n",
    "PTrain=list(zip(y0,y1))\n",
    "\n",
    "y0 = (list(df_test.iloc[:,6]))\n",
    "y1 = (list(df_test.iloc[:,7]))\n",
    "x0 = [1]*len(y0)\n",
    "x1 = (list(df_test.iloc[:,0]))\n",
    "x2 = (list(df_test.iloc[:,1]))\n",
    "x3 = (list(df_test.iloc[:,2]))\n",
    "x4 = (list(df_test.iloc[:,3]))\n",
    "x5 = (list(df_test.iloc[:,4]))\n",
    "x6 = (list(df_test.iloc[:,5]))\n",
    "FTest=list(zip(x1,x2,x3,x4,x5,x6,x0))\n",
    "PTest=list(zip(y0,y1))\n",
    "FTrain"
   ]
  },
  {
   "cell_type": "markdown",
   "id": "c27a67c9-1519-4fb4-a55c-00f655fe85a3",
   "metadata": {},
   "source": [
    "### Initializing the network with single hidden layer"
   ]
  },
  {
   "cell_type": "code",
   "execution_count": 179,
   "id": "e1fff823-35bf-4fee-83d7-d4b3fd6d82e6",
   "metadata": {},
   "outputs": [],
   "source": [
    "def initialize_network(n_i, n_h, n_o):\n",
    "    network = list()\n",
    "    hidden = [{'weights':[random.uniform(0,1) for i in range(n_i + 1)]} for i in range(n_h)]\n",
    "    network.append(hidden)\n",
    "    output = [{'weights':[random.uniform(0,1) for i in range(n_h + 1)]} for i in range(n_o)]\n",
    "    network.append(output)\n",
    "    return network"
   ]
  },
  {
   "cell_type": "markdown",
   "id": "5609acd6-672b-4a03-85d9-0326917eb72b",
   "metadata": {},
   "source": [
    "### Initializing the network with double hidden layer (Arguments are no. of input features, neurons in hidden layers, and output neurons)"
   ]
  },
  {
   "cell_type": "code",
   "execution_count": 185,
   "id": "4f6d4b5f-1b29-4a40-8d13-7e171bcabcd1",
   "metadata": {},
   "outputs": [],
   "source": [
    "def initialize_network_2(n_inputs, n_hidden1,n_hidden2, n_outputs):\n",
    "    network = list()\n",
    "    hidden_layer = [{'weights':[random.uniform(0,1) for i in range(n_inputs + 1)]} for i in range(n_hidden1)]\n",
    "    network.append(hidden_layer)\n",
    "    hidden_layer = [{'weights':[random.uniform(0,1) for i in range(n_hidden1 + 1)]} for i in range(n_hidden2)]\n",
    "    network.append(hidden_layer)\n",
    "    output_layer = [{'weights':[random.uniform(0,1) for i in range(n_hidden2 + 1)]} for i in range(n_outputs)]\n",
    "    network.append(output_layer)\n",
    "    return network"
   ]
  },
  {
   "cell_type": "markdown",
   "id": "b34576ae-ad59-4f16-8a22-34e4dbca162c",
   "metadata": {},
   "source": [
    "### Activation function"
   ]
  },
  {
   "cell_type": "code",
   "execution_count": 180,
   "id": "4de94a31-7896-457b-a471-259a6dae48f5",
   "metadata": {},
   "outputs": [],
   "source": [
    "def activate(weights, inputs):\n",
    "    activation = weights[-1]\n",
    "    for i in range(len(weights)-1):\n",
    "        activation += weights[i] * inputs[i]\n",
    "    return activation"
   ]
  },
  {
   "cell_type": "markdown",
   "id": "e797ee4e-6c8a-4926-b404-d5a7a22042d7",
   "metadata": {},
   "source": [
    "### Sigmoid function and its derivative"
   ]
  },
  {
   "cell_type": "code",
   "execution_count": 183,
   "id": "0549dfe1-5390-4a44-a7a3-2e05fa1b666e",
   "metadata": {},
   "outputs": [],
   "source": [
    "def sig(x):\n",
    "    if x >= 0:\n",
    "        z = math.exp(-x)\n",
    "        s = 1 / (1 + z)\n",
    "        return s\n",
    "    else:\n",
    "        z = math.exp(x)\n",
    "        s = z / (1 + z)\n",
    "        return s\n",
    "\n",
    "def sig_derivative(output):\n",
    "\treturn output * (1.0 - output)"
   ]
  },
  {
   "cell_type": "markdown",
   "id": "c2e1b5a2-40a3-48c0-b131-212d8c80a830",
   "metadata": {},
   "source": [
    "### Forward Propagation"
   ]
  },
  {
   "cell_type": "code",
   "execution_count": 182,
   "id": "5ffbb6b2-d5a5-4342-9ede-fcb022131c78",
   "metadata": {},
   "outputs": [],
   "source": [
    "def forward_propagate(network, r):\n",
    "    inputs = r\n",
    "    for layer in network:\n",
    "        new_inputs = []\n",
    "        for neuron in layer:\n",
    "            act = activate(neuron['weights'], inputs)\n",
    "            neuron['output'] = sig(act)\n",
    "            new_inputs.append(neuron['output'])\n",
    "        inputs = new_inputs\n",
    "    return inputs"
   ]
  },
  {
   "cell_type": "markdown",
   "id": "a553bc2c-bfbc-4add-a2f0-ee7105eff73e",
   "metadata": {},
   "source": [
    "### Backward Propagation"
   ]
  },
  {
   "cell_type": "code",
   "execution_count": 181,
   "id": "1355f793-370c-4f15-89f8-3706a962ccaf",
   "metadata": {},
   "outputs": [],
   "source": [
    "def backward_propagate(network, expected):\n",
    "    for i in reversed(range(len(network))):\n",
    "        layer = network[i]\n",
    "        errors = list()\n",
    "        if i != len(network)-1:\n",
    "            for j in range(len(layer)):\n",
    "                error = 0.0\n",
    "                for neuron in network[i + 1]:\n",
    "                    error += (neuron['weights'][j] * neuron['delta'])\n",
    "                errors.append(error)\n",
    "        else:\n",
    "            for j in range(len(layer)):\n",
    "                neuron = layer[j]\n",
    "                errors.append(neuron['output'] - expected[j])\n",
    "        for j in range(len(layer)):\n",
    "            neuron = layer[j]\n",
    "            neuron['delta'] = errors[j] * sig_derivative(neuron['output'])"
   ]
  },
  {
   "cell_type": "markdown",
   "id": "320dc213-60ed-43de-af51-a5e22fb266fe",
   "metadata": {},
   "source": [
    "### Updating Weights"
   ]
  },
  {
   "cell_type": "code",
   "execution_count": 184,
   "id": "f714882f-6147-48c1-9b1a-9db247d87a5a",
   "metadata": {},
   "outputs": [],
   "source": [
    "def update_weights(network, row, rate):\n",
    "    for i in range(len(network)):\n",
    "        inputs = row[:-1]\n",
    "        if i != 0:\n",
    "            inputs = [neuron['output'] for neuron in network[i - 1]]\n",
    "        for neuron in network[i]:\n",
    "            for j in range(len(inputs)):\n",
    "                neuron['weights'][j] -= rate * neuron['delta'] * inputs[j]\n",
    "            neuron['weights'][-1] -= rate * neuron['delta']"
   ]
  },
  {
   "cell_type": "markdown",
   "id": "7b852053-4366-4456-b20c-85bd3e4ec8f1",
   "metadata": {},
   "source": [
    "### Training the network (Arguments are training feature set and expected label set)"
   ]
  },
  {
   "cell_type": "code",
   "execution_count": 196,
   "id": "5399a4b1-95c4-4c8b-9406-dec2cdd2f10e",
   "metadata": {},
   "outputs": [],
   "source": [
    "def train_network(network, ftrain, ptrain, rate, epoch, n_outputs):\n",
    "    first3=3\n",
    "    for epoch in range(epoch):\n",
    "        if first3>0:\n",
    "            for layer in network:\n",
    "                first3=first3-1\n",
    "                print(layer)\n",
    "        sum_error = 0\n",
    "        for i in range(len(ftrain)):\n",
    "            outputs = forward_propagate(network,ftrain[i])\n",
    "            expected = ptrain[i]\n",
    "            sum_error += sum([(expected[i]-outputs[i])**2 for i in range(len(expected))])\n",
    "            backward_propagate(network, expected)\n",
    "            update_weights(network, ftrain[i], rate)"
   ]
  },
  {
   "cell_type": "markdown",
   "id": "a5fa03de-3a92-4a1d-9de3-f54e6b5ee6e5",
   "metadata": {},
   "source": [
    "### Function to predict and give error rate over testing set"
   ]
  },
  {
   "cell_type": "code",
   "execution_count": 187,
   "id": "5011777a-cbec-4519-993a-341c9d0854da",
   "metadata": {},
   "outputs": [],
   "source": [
    "def predict(network):\n",
    "    error=0\n",
    "    for i in range(len(FTest)):\n",
    "        row=FTest[i]\n",
    "        output=forward_propagate(network, row)\n",
    "        out=[0,0]\n",
    "        if output[0]>=0.5:\n",
    "            out[0]=1\n",
    "        else:\n",
    "            out[0]=0\n",
    "        if output[1]>=0.5:\n",
    "            out[1]=1\n",
    "        else:\n",
    "            out[1]=0\n",
    "        if not (out[0]==PTest[i][0] and out[1] == PTest[i][1]):\n",
    "            error=error+1\n",
    "    return error/len(FTest)*100"
   ]
  },
  {
   "cell_type": "markdown",
   "id": "26e51369-e062-4658-9446-da161843f7b2",
   "metadata": {},
   "source": [
    "### Creating and training network with single hidden layer with 7 neurons"
   ]
  },
  {
   "cell_type": "code",
   "execution_count": 197,
   "id": "2d379b6a-9fd8-42eb-b304-53893db7779c",
   "metadata": {},
   "outputs": [
    {
     "name": "stdout",
     "output_type": "stream",
     "text": [
      "[{'weights': [0.6365924443384781, 0.9968328880514158, 0.9275449460102909, 0.5055561619972142, 0.45756884785614604, 0.3302180029261007, 0.291224544368086]}, {'weights': [0.6392542703684694, 0.14484727674819708, 0.5174038646583894, 0.8028603084720087, 0.018081044117692846, 0.45034780851941036, 0.39476145526224515]}, {'weights': [0.6515762575467277, 0.1407446395334574, 0.14516796022517797, 0.07872783761923863, 0.4773879277923879, 0.7076154975408561, 0.04794130489713189]}, {'weights': [0.4961843320026337, 0.24133576676671442, 0.7696198444172434, 0.4200801942331006, 0.5288288790343247, 0.019715317747902472, 0.20265921810059262]}, {'weights': [0.9872175499324509, 0.39488472664454044, 0.15936277003052468, 0.4178311160369701, 0.9388481653287069, 0.1309511965841028, 0.692551948432384]}, {'weights': [0.4566704940719363, 0.3954228319256442, 0.5135337814519134, 0.7878709153450689, 0.7616268100290171, 0.9737029119144357, 0.4107603352111038]}, {'weights': [0.27092526241308135, 0.7807012027014377, 0.2744469590909977, 0.31614471134994104, 0.7128251166408175, 0.027538747382504503, 0.9290467391854541]}]\n",
      "[{'weights': [0.4408297503769122, 0.15171698914688947, 0.3191591339099148, 0.5784904376864308, 0.04538909137160152, 0.4935428020071301, 0.38476939533024246, 0.6263019191668607]}, {'weights': [0.7170871237057789, 0.5685998738586245, 0.3665383877398394, 0.7006747050973406, 0.40142750368816205, 0.7649483630274788, 0.9093644630741492, 0.9309409637017024]}]\n",
      "[{'weights': [0.5997691120843648, 0.9974797652105398, 0.8917632904669839, 0.4951086589325078, 0.4537523599963365, 0.31427951620779887, 0.21851505622197656], 'output': 0.9732830021438349, 'delta': -0.00044596525253765}, {'weights': [0.6221919835199057, 0.13653012419870195, 0.4911237723518791, 0.8016257509130184, 0.02141167861376905, 0.4416030557718052, 0.37723675397265416], 'output': 0.915874544061879, 'delta': -0.00014228841426539598}, {'weights': [0.6348468512626193, 0.14582048313823728, 0.11899715406514667, 0.07167499150637947, 0.481647145558742, 0.6924184181230562, 0.006401663302317114], 'output': 0.8015670943631511, 'delta': 9.209970391213001e-05}, {'weights': [0.4500855311727532, 0.24989304515880906, 0.7278217091128705, 0.40395258609825696, 0.5181394512656293, -0.0025699253326558476, 0.09265009945284577], 'output': 0.9163340592248143, 'delta': -0.0017146522846951651}, {'weights': [0.9810211800334163, 0.3902261048593871, 0.1386517980772296, 0.40272616709797315, 0.945068404534337, 0.10969028041104927, 0.6956447215143698], 'output': 0.9694140782963677, 'delta': 0.0003940446800825116}, {'weights': [0.4151607608588798, 0.39589205256884685, 0.4715092143498259, 0.7841565891391514, 0.7600917907851402, 0.9649055940032547, 0.3278730071994414], 'output': 0.9573497607952132, 'delta': -0.0008741051345024331}, {'weights': [0.22295634151084903, 0.778809170992851, 0.21381350977790387, 0.2895287177606387, 0.7103554541772764, -0.005191817608249408, 0.8411170764253328], 'output': 0.953985939004605, 'delta': -0.001111328630074341}]\n",
      "[{'weights': [0.33566570814149677, 0.020359574764181827, 0.22266492075245783, 0.47533945732937294, -0.14374208850532413, 0.37318944807146864, 0.18975255165888655, 0.28681020786129924], 'output': 0.8287453534174687, 'delta': -0.02430557133201132}, {'weights': [0.18358823992085593, 0.04837790476597559, -0.08317192616804311, 0.2138912820117558, -0.14520704502682846, 0.24168452275399374, 0.3879846074971332, 0.28140990057688947], 'output': 0.7178117806140836, 'delta': -0.05715948930733879}]\n"
     ]
    }
   ],
   "source": [
    "network = initialize_network(6, 7, 2)\n",
    "train_network(network,FTrain,PTrain, 0.4, 50, 2)"
   ]
  },
  {
   "cell_type": "markdown",
   "id": "d041f8f8-70e9-4a88-aa90-ac4997635db4",
   "metadata": {},
   "source": [
    "### Predicting error rate for above network"
   ]
  },
  {
   "cell_type": "code",
   "execution_count": 198,
   "id": "3158995b-3495-4e99-b930-924f38f28154",
   "metadata": {},
   "outputs": [
    {
     "data": {
      "text/plain": [
       "0.0"
      ]
     },
     "execution_count": 198,
     "metadata": {},
     "output_type": "execute_result"
    }
   ],
   "source": [
    "predict(network)"
   ]
  },
  {
   "cell_type": "markdown",
   "id": "dca84d47-a4ec-4383-988a-7a7ce19e82f4",
   "metadata": {},
   "source": [
    "### Creating and training network and Predicting error rate for it"
   ]
  },
  {
   "cell_type": "code",
   "execution_count": 199,
   "id": "f5eec777-a415-4c27-9e0f-5ac78836145f",
   "metadata": {},
   "outputs": [
    {
     "name": "stdout",
     "output_type": "stream",
     "text": [
      "[{'weights': [0.668387315534686, 0.3420754997261197, 0.905488162523241, 0.9388533717466945, 0.8938636237150963, 0.5645497563845865, 0.9911637016657439]}, {'weights': [0.20645269379174014, 0.5765274562396507, 0.7841618162005659, 0.46908430291391856, 0.9127169774383473, 0.27421044907902903, 0.1951404538278877]}, {'weights': [0.4755566880326376, 0.4714633775969177, 0.4529259773558124, 0.728249679616139, 0.2714363040926776, 0.6920777778071986, 0.7679228364070512]}, {'weights': [0.426197147887047, 0.09100934912823866, 0.9621132913957204, 0.642114541492663, 0.6293207202744687, 0.31591927224895133, 0.6584723826112238]}, {'weights': [0.9578990502845268, 0.5427665402065732, 0.9719266545296983, 0.5104151986321234, 0.9524651308383228, 0.9829203312794152, 0.272551763209506]}]\n",
      "[{'weights': [0.106918728843297, 0.37373492255273755, 0.6512797245369581, 0.5290651136209242, 0.9095908003578703, 0.026630866505842676]}, {'weights': [0.10711507123579211, 0.9520336347980274, 0.7885994781929293, 0.5044679178821863, 0.7268348102990031, 0.538172038852]}, {'weights': [0.4659751883411569, 0.011674531235341012, 0.6052212957882145, 0.0947227557642849, 0.5462102634468771, 0.35953554242948393]}, {'weights': [0.7460229113065413, 0.9861396295167335, 0.4810527840304658, 0.7209522203339875, 0.4511911210197517, 0.32898486109984004]}, {'weights': [0.7325675397097963, 0.7524907405024075, 0.5179781272624625, 0.8658701662067576, 0.5139074693136222, 0.4233464987344975]}, {'weights': [0.44840798988218855, 0.49031610777765844, 0.1761119938260859, 0.6560487971750693, 0.019881278514339185, 0.27331362210216836]}, {'weights': [0.14112318425582837, 0.23400890337740932, 0.1495633260170698, 0.9748678444065064, 0.24290950836667946, 0.20956520498798403]}, {'weights': [0.15493466423891966, 0.6031399762957578, 0.9552749323585171, 0.5122145397315874, 0.17398000170585026, 0.9489878478974361]}, {'weights': [0.8827228191781801, 0.5614500715666512, 0.49019612204019913, 0.09349531190511018, 0.609896407127369, 0.7159237537363563]}, {'weights': [0.09215819666550218, 0.6731551764270747, 0.34534127004555937, 0.7718608989326181, 0.2842068949013692, 0.5673696157942943]}]\n",
      "[{'weights': [0.1075823572389033, 0.701399488597466, 0.676579168415907, 0.41262953304536576, 0.03870029708951761, 0.49561214622397187, 0.18323510748411131, 0.5579893651870396, 0.4051553911075587, 0.4549678852947119, 0.7345600267844546]}, {'weights': [0.6273373188473792, 0.13743513399192941, 0.7824322464450456, 0.1434574437245386, 0.004818679449026808, 0.4926697757684376, 0.12940724485458388, 0.17918729846055892, 0.19848360923257014, 0.5853902719623054, 0.0227058074121691]}]\n"
     ]
    },
    {
     "data": {
      "text/plain": [
       "0.0"
      ]
     },
     "execution_count": 199,
     "metadata": {},
     "output_type": "execute_result"
    }
   ],
   "source": [
    "network2 = initialize_network_2(6, 5,10, 2)\n",
    "train_network(network2,FTrain,PTrain, 0.5, 50, 2)\n",
    "predict(network2)"
   ]
  }
 ],
 "metadata": {
  "kernelspec": {
   "display_name": "IML",
   "language": "python",
   "name": "iml_kernel"
  },
  "language_info": {
   "codemirror_mode": {
    "name": "ipython",
    "version": 3
   },
   "file_extension": ".py",
   "mimetype": "text/x-python",
   "name": "python",
   "nbconvert_exporter": "python",
   "pygments_lexer": "ipython3",
   "version": "3.9.7"
  }
 },
 "nbformat": 4,
 "nbformat_minor": 5
}
