{
 "cells": [
  {
   "cell_type": "markdown",
   "id": "9c4104aa-ef31-4ac2-ac03-5e9841f6a58c",
   "metadata": {},
   "source": [
    "## Importing modules and dataset"
   ]
  },
  {
   "cell_type": "code",
   "execution_count": 2,
   "id": "67a34e5f-9701-4bbd-add9-b5193655fdf6",
   "metadata": {},
   "outputs": [
    {
     "name": "stdout",
     "output_type": "stream",
     "text": [
      "        price  lotsize  bedrooms  bathrms\n",
      "0     42000.0     5850         3        1\n",
      "1     38500.0     4000         2        1\n",
      "2     49500.0     3060         3        1\n",
      "3     60500.0     6650         3        1\n",
      "4     61000.0     6360         2        1\n",
      "..        ...      ...       ...      ...\n",
      "541   91500.0     4800         3        2\n",
      "542   94000.0     6000         3        2\n",
      "543  103000.0     6000         3        2\n",
      "544  105000.0     6000         3        2\n",
      "545  105000.0     6000         3        1\n",
      "\n",
      "[546 rows x 4 columns]\n"
     ]
    }
   ],
   "source": [
    "import numpy as np\n",
    "import pandas as pd\n",
    "import random\n",
    "import math\n",
    "import requests\n",
    "import io\n",
    "url = \"https://raw.githubusercontent.com/Sankalp2002/IML_datasets/main/hp_dataset.csv\"\n",
    "download = requests.get(url).content\n",
    "df = pd.read_csv(io.StringIO(download.decode('utf-8')))\n",
    "df=df.loc[:,\"price\":\"bathrms\":1]\n",
    "print(df)\n",
    "#dividing into training and testing parts\n",
    "df_test=df.iloc[383:546]\n",
    "df_train=df.iloc[0:383]"
   ]
  },
  {
   "cell_type": "markdown",
   "id": "5cc19f0d-472b-48f2-a5ac-97e2a9b3e3f8",
   "metadata": {},
   "source": [
    "### Scale function takes list and returns the mean scaled list"
   ]
  },
  {
   "cell_type": "code",
   "execution_count": 3,
   "id": "d8ccc4c7-a642-425a-b87e-a5f9c558d99b",
   "metadata": {},
   "outputs": [],
   "source": [
    "def scale(A):\n",
    "    _mean=np.mean(A)\n",
    "    _max=max(A)\n",
    "    _min=min(A)\n",
    "    scaled=[((i - _mean) / (_max - _min)) for i in A]\n",
    "    return scaled"
   ]
  },
  {
   "cell_type": "markdown",
   "id": "7daf9e6f-d4d2-4a4a-8c2a-c35c9002f862",
   "metadata": {},
   "source": [
    "### Creating a scaled list for combined features and a list for price for both training and testing parts."
   ]
  },
  {
   "cell_type": "code",
   "execution_count": 59,
   "id": "0da46609-ad12-404a-b313-2feb8aeca14d",
   "metadata": {},
   "outputs": [],
   "source": [
    "y = (list(df_train.iloc[:,0]))\n",
    "x0 = [1]*len(y)\n",
    "x1 = scale(list(df_train.iloc[:,1]))\n",
    "x2 = scale(list(df_train.iloc[:,2]))\n",
    "x3 = scale(list(df_train.iloc[:,3]))\n",
    "scaled_FTrain=list(zip(x0,x1,x2,x3))\n",
    "scaled_PTrain=y\n",
    "y = (list(df_test.iloc[:,0]))\n",
    "x0 = [1]*len(y)\n",
    "x1 = scale(list(df_test.iloc[:,1]))\n",
    "x2 = scale(list(df_test.iloc[:,2]))\n",
    "x3 = scale(list(df_test.iloc[:,3]))\n",
    "scaled_PTest =y\n",
    "scaled_FTest=list(zip(x0,x1,x2,x3))\n",
    "# y = (list(df_train.iloc[:,0]))\n",
    "# x0 = [1]*len(y)\n",
    "# x1 = (list(df_train.iloc[:,1]))\n",
    "# x2 = (list(df_train.iloc[:,2]))\n",
    "# x3 = (list(df_train.iloc[:,3]))\n",
    "# scaled_FTrain=list(zip(x0,x1,x2,x3))\n",
    "# scaled_PTrain=y\n",
    "# y = (list(df_test.iloc[:,0]))\n",
    "# x0 = [1]*len(y)\n",
    "# x1 = (list(df_test.iloc[:,1]))\n",
    "# x2 = (list(df_test.iloc[:,2]))\n",
    "# x3 = (list(df_test.iloc[:,3]))\n",
    "# scaled_PTest =y\n",
    "# scaled_FTest=list(zip(x0,x1,x2,x3))"
   ]
  },
  {
   "cell_type": "markdown",
   "id": "4dd5cc66-0606-4e8b-9ac1-714e884bfe76",
   "metadata": {
    "tags": []
   },
   "source": [
    "# Q6 C\n",
    "Design Predictor using Batch Gradient Descent Algorithm, Stochastic Gradient Algorithm and mini batch Gradient Descent algorithms (determining minibatch size is your choice- here it could be 10, 20, 30 etc.) with and without regularization and compare their performances in terms of % error in prediction."
   ]
  },
  {
   "cell_type": "markdown",
   "id": "09e8497f-a555-441a-afe5-4c04b3cbaab1",
   "metadata": {},
   "source": [
    "## Creating separate slope functions for batch, stochastic and mini-batch gradient descent."
   ]
  },
  {
   "cell_type": "markdown",
   "id": "4231842b-7457-48b0-adc2-be664b716a6c",
   "metadata": {
    "tags": []
   },
   "source": [
    "### Slopebgd calculates slope for all samples for the gradient descent part.\n",
    "### Slopesgd calculates slope for a single sample at a given index. \n",
    "### Slopembgd calculates slope for a batch of samples starting at a given index till a given batch size."
   ]
  },
  {
   "cell_type": "code",
   "execution_count": 5,
   "id": "bd126b22-2300-47c4-8ee0-7d96abdf71ef",
   "metadata": {},
   "outputs": [],
   "source": [
    "def Slopebgd(C, F, P, ind):\n",
    "    Error = 0\n",
    "    for i in range(len(F)):\n",
    "        h = 0\n",
    "        for j in range(len(C)):\n",
    "            h = h + C[j] * F[i][j]\n",
    "        Error += (h - P[i]) * F[i][ind]\n",
    "    return Error\n",
    "def Slopembgd(C, F, P, ind,bsize,k):\n",
    "    Error = 0\n",
    "    for i in range(k,k+bsize):\n",
    "        h = 0\n",
    "        for j in range(len(C)):\n",
    "            h = h + C[j] * F[i][j]\n",
    "        Error += (h - P[i]) * F[i][ind]\n",
    "    return Error\n",
    "def Slopesgd(C,F,P,ind,i):\n",
    "    h = 0\n",
    "    for j in range(len(C)):\n",
    "        h = h + C[j] * F[i][j]\n",
    "    return (h - P[i]) * F[i][ind]"
   ]
  },
  {
   "cell_type": "markdown",
   "id": "22a61ce2-6fca-434b-822c-2f5eaaceab8a",
   "metadata": {},
   "source": [
    "## Creating an error function which returns mean percentage error for given coefficients and feature, price testing list."
   ]
  },
  {
   "cell_type": "code",
   "execution_count": 6,
   "id": "b6e32d0d-f897-415a-bab5-ce4b64fa05c3",
   "metadata": {},
   "outputs": [],
   "source": [
    "def CalcError(F2,P2,Coeff):\n",
    "    Error = 0\n",
    "    for i in range(len(F2)):\n",
    "        predicted = 0\n",
    "        for j in range(len(Coeff)):\n",
    "            predicted = predicted + Coeff[j] * F2[i][j]\n",
    "        Error += abs(predicted - P2[i]) / P2[i]\n",
    "    Error = (Error / len(F2)) * 100\n",
    "    return Error"
   ]
  },
  {
   "cell_type": "markdown",
   "id": "ff0ed48a-4004-45fe-99a1-7aed3422e1b9",
   "metadata": {},
   "source": [
    "## Functions for Batch Gradient Descent with and without regularization.\n",
    "### Takes training and testing features and price lists, learning rate, no. of iterations as input and returns error%.\n",
    "### Regularized BGD takes lambda as input also."
   ]
  },
  {
   "cell_type": "code",
   "execution_count": 95,
   "id": "bfdfbbfa-5728-437d-90de-99667140d62a",
   "metadata": {},
   "outputs": [],
   "source": [
    "def bgd(F1,P1,F2,P2,rate,iters):\n",
    "    Coeff = [0, 0, 0, 0]\n",
    "    for i in range(iters):#50000\n",
    "        Temp= Coeff\n",
    "        for j in range(len(Coeff)):\n",
    "            Temp[j] = Temp[j] - ((rate / len(F1)) * (Slopebgd(Coeff, F1, P1, j)))\n",
    "        Coeff = Temp\n",
    "    #print(Coeff)\n",
    "    return CalcError(F2,P2,Coeff)\n",
    "\n",
    "def bgd_reg(F1,P1,F2,P2,rate,iters,lam):\n",
    "    Coeff = [0, 0, 0, 0]\n",
    "    for i in range(iters):#50000\n",
    "        Temp = Coeff\n",
    "        for j in range(len(Coeff)):\n",
    "            Temp[j] = Temp[j] - ((rate / len(F1)) * (Slopebgd(Coeff, F1, P1, j)+lam*Temp[j]))\n",
    "        Coeff = Temp\n",
    "    return CalcError(F2,P2,Coeff)"
   ]
  },
  {
   "cell_type": "markdown",
   "id": "67648bc5-1947-4d7f-b870-e42edcbe6613",
   "metadata": {},
   "source": [
    "## Functions for Stochastic Gradient Descent with and without regularization.\n",
    "### Takes training and testing features and price lists, learning rate, no. of iterations as input and returns error%.\n",
    "### Regularized SGD takes lambda as input also."
   ]
  },
  {
   "cell_type": "code",
   "execution_count": 94,
   "id": "0058eeb4-c10e-4992-b331-82e9038a9da5",
   "metadata": {},
   "outputs": [],
   "source": [
    "def sgd(F1,P1,F2,P2,rate,iters):\n",
    "    Coeff = [0,0,0,0]\n",
    "    for iter in range(iters):#1000000\n",
    "        i=random.randint(0,382)# sample is randomly selected\n",
    "        Temp = Coeff\n",
    "        for j in range(4):\n",
    "            Temp[j] = Temp[j] - ((rate/len(F1)) * (Slopesgd(Coeff, F1, P1, j,i)))\n",
    "        Coeff = Temp\n",
    "    return CalcError(F2,P2,Coeff)\n",
    "\n",
    "def sgd_reg(F1,P1,F2,P2,rate,iters,lam):\n",
    "    Coeff = [0,0,0,0]\n",
    "    for iter in range(iters):#1000000\n",
    "        i=random.randint(0,382)\n",
    "        Temp = Coeff\n",
    "        for j in range(4):\n",
    "            Temp[j] = Temp[j] - ((rate/len(F1)) * (Slopesgd(Coeff, F1, P1, j,i)+lam*Temp[j]))\n",
    "        Coeff = Temp\n",
    "    return CalcError(F2,P2,Coeff)"
   ]
  },
  {
   "cell_type": "markdown",
   "id": "fd8abe91-23f2-4b74-920b-c01fda821882",
   "metadata": {},
   "source": [
    "## Functions for Mini-Batch Gradient Descent with and without regularization.\n",
    "### Takes training and testing features and price lists, learning rate,batch size, no. of iterations as input and returns error%.\n",
    "### Regularized MBGD takes lambda as input also."
   ]
  },
  {
   "cell_type": "code",
   "execution_count": 156,
   "id": "3d4611a6-abe3-4f59-96f0-c4f4903df9a9",
   "metadata": {},
   "outputs": [],
   "source": [
    "def mbgd(F1,P1,F2,P2,rate,bsize,iters):\n",
    "    Coeff = [0,0,0,0]\n",
    "    NoOfBatches = math.floor(len(P1) / bsize)\n",
    "    for e in range(iters):\n",
    "        batch = random.randrange(0,NoOfBatches)\n",
    "        Temp = Coeff\n",
    "        for j in range(len(Coeff)):\n",
    "            Temp[j] = Temp[j] - ((rate / len(F1)) * (Slopembgd(Coeff, F1, P1, j,bsize,bsize*batch)))\n",
    "        Coeff = Temp\n",
    "    return CalcError(F2,P2,Coeff)\n",
    "\n",
    "def mbgd_reg(F1,P1,F2,P2,rate,bsize,iters,lam):\n",
    "    Coeff = [0,0,0,0]\n",
    "    NoOfBatches = math.floor(len(P1) / bsize)\n",
    "    for e in range(iters):\n",
    "        batch = random.randrange(0,NoOfBatches)#starting point of batch is randomly selected\n",
    "        Temp = Coeff\n",
    "        for j in range(len(Coeff)):\n",
    "            Temp[j] = Temp[j] - ((rate / len(F1)) * (Slopembgd(Coeff, F1, P1, j,bsize,bsize*batch)+lam*Temp[j]))\n",
    "        Coeff = Temp  \n",
    "    return CalcError(F2,P2,Coeff)"
   ]
  },
  {
   "cell_type": "code",
   "execution_count": 161,
   "id": "e8421b78-318f-45b6-bc90-a361cdda2bad",
   "metadata": {},
   "outputs": [
    {
     "name": "stdout",
     "output_type": "stream",
     "text": [
      "[64134.9530024952, 42125.48662362529, 24281.433569612625, 40089.23105777997]\n",
      "25.879592603996134\n"
     ]
    }
   ],
   "source": [
    "\n",
    "\n",
    "print(bgd(scaled_FTrain,scaled_PTrain,scaled_FTest,scaled_PTest,0.001,8100))\n",
    "\n",
    "    \n",
    "print(sgd(scaled_FTrain,scaled_PTrain,scaled_FTest,scaled_PTest,0.0005,10000000))\n",
    "\n",
    "\n",
    "print(mbgd(scaled_FTrain,scaled_PTrain,scaled_FTest,scaled_PTest,0.001,10,500000))"
   ]
  },
  {
   "cell_type": "code",
   "execution_count": 163,
   "id": "d9fbdb59-9c42-4b76-ba32-7dd5ca90336b",
   "metadata": {},
   "outputs": [
    {
     "name": "stdout",
     "output_type": "stream",
     "text": [
      "19.869640072997548\n"
     ]
    }
   ],
   "source": [
    "\n",
    "\n",
    "print(bgd_reg(scaled_FTrain,scaled_PTrain,scaled_FTest,scaled_PTest,0.001,8100,1))\n",
    "\n",
    "\n",
    "\n",
    "# print(sgd_reg(scaled_FTrain,scaled_PTrain,scaled_FTest,scaled_PTest,0.003,1))\n",
    "\n",
    "\n",
    "\n",
    "# print(mbgd_reg(scaled_FTrain,scaled_PTrain,scaled_FTest,scaled_PTest,0.001,10,500000,1))"
   ]
  },
  {
   "cell_type": "markdown",
   "id": "972ecb5f-974c-48f8-86a6-58f4476544e3",
   "metadata": {},
   "source": [
    "# Q6 D"
   ]
  },
  {
   "cell_type": "code",
   "execution_count": null,
   "id": "38c8c9bd-82e1-4a9f-9851-85da95943c21",
   "metadata": {},
   "outputs": [],
   "source": [
    "def bgd(F,P,rate,iters):\n",
    "    LearningRate = rate\n",
    "    Coeff = [0, 0, 0, 0]\n",
    "    for i in range(iters):#50000\n",
    "        TempCoeff = Coeff.copy()\n",
    "        for j in range(len(Coeff)):\n",
    "            TempCoeff[j] = TempCoeff[j] - ((LearningRate / len(F1)) * (Slopebgd(Coeff, F1, P1, j)))\n",
    "        Coeff = TempCoeff.copy()\n",
    "    return CalcError(F2,P2,Coeff)"
   ]
  }
 ],
 "metadata": {
  "kernelspec": {
   "display_name": "IML",
   "language": "python",
   "name": "iml_kernel"
  },
  "language_info": {
   "codemirror_mode": {
    "name": "ipython",
    "version": 3
   },
   "file_extension": ".py",
   "mimetype": "text/x-python",
   "name": "python",
   "nbconvert_exporter": "python",
   "pygments_lexer": "ipython3",
   "version": "3.9.7"
  }
 },
 "nbformat": 4,
 "nbformat_minor": 5
}
