{
 "cells": [
  {
   "cell_type": "markdown",
   "metadata": {},
   "source": [
    "# Q5- Linear Fit"
   ]
  },
  {
   "cell_type": "code",
   "execution_count": 2,
   "metadata": {
    "colab": {
     "base_uri": "https://localhost:8080/",
     "height": 676
    },
    "id": "TGZEMJwnRFXS",
    "outputId": "0936634c-4b3c-4e4f-a538-0766c962127d"
   },
   "outputs": [
    {
     "name": "stdout",
     "output_type": "stream",
     "text": [
      "         Sno        Date  Deaths\n",
      "0          1  2020-01-30       0\n",
      "1          2  2020-01-31       0\n",
      "2          3  2020-02-01       0\n",
      "3          4  2020-02-02       0\n",
      "4          5  2020-02-03       0\n",
      "...      ...         ...     ...\n",
      "18105  18106  2021-08-11    3831\n",
      "18106  18107  2021-08-11     773\n",
      "18107  18108  2021-08-11    7368\n",
      "18108  18109  2021-08-11   22775\n",
      "18109  18110  2021-08-11   18252\n",
      "\n",
      "[18110 rows x 3 columns]\n"
     ]
    }
   ],
   "source": [
    "import numpy as np\n",
    "import pandas as pd\n",
    "import matplotlib.pyplot as plt\n",
    "%matplotlib inline\n",
    "df = pd.read_csv('covid_19_india.csv')\n",
    "df = df.drop(['Time', 'State/UnionTerritory','ConfirmedIndianNational','ConfirmedForeignNational','Cured','Confirmed'], axis=1)\n",
    "print(df)"
   ]
  },
  {
   "cell_type": "markdown",
   "metadata": {},
   "source": [
    "### To get the data for May 2021, i slice only the part of May and since the data is divided into States and UT, i add the data for 36 states and UT. Also since it contains cumulative deaths, so to get deaths on each day, i subtracted the cumulative deaths of previous day. Then the usual linear fit method is used."
   ]
  },
  {
   "cell_type": "code",
   "execution_count": 3,
   "metadata": {},
   "outputs": [
    {
     "name": "stdout",
     "output_type": "stream",
     "text": [
      "Mean Square error in prediction for May 23 to May 31: 716297.2571360697\n",
      "Day in May, Actual Deaths, Predicted Deaths\n",
      "(23, 3741, 4332)\n",
      "(24, 4454, 4364)\n",
      "(25, 3511, 4396)\n",
      "(26, 4157, 4429)\n",
      "(27, 3847, 4461)\n",
      "(28, 3660, 4493)\n",
      "(29, 3617, 4525)\n",
      "(30, 3460, 4557)\n",
      "(31, 3128, 4589)\n",
      "Predicted Deaths on April 20, 2021: 3274 , Error %: 58.16425120772947 %\n",
      "Predicted Deaths on June 10, 2021: 4910 , Error %: 137.5423318819545 %\n"
     ]
    },
    {
     "data": {
      "image/png": "[encoded data removed]",
      "text/plain": [
       "<Figure size 432x288 with 1 Axes>"
      ]
     },
     "metadata": {
      "needs_background": "light"
     },
     "output_type": "display_data"
    }
   ],
   "source": [
    "df=df.iloc[14366:15518]\n",
    "listy1=[0]*32\n",
    "for i in range(1,33):\n",
    "    s=0\n",
    "    for j in range(14366+(i-1)*36,14366+i*36):\n",
    "        s=s+df.at[j,'Deaths']\n",
    "    listy1[i-1]=s\n",
    "listx = list(range(1,33))\n",
    "listy=[]\n",
    "for i in range(1,32):\n",
    "    listy.append(listy1[i]-listy1[i-1])\n",
    "tlisty=listy\n",
    "tlistx=listx\n",
    "listx=listx[0:22]\n",
    "listy=listy[0:22]\n",
    "m=len(listx)\n",
    "dates=np.array(listx)\n",
    "deaths=np.array(listy)\n",
    "meanx=np.mean(dates)\n",
    "meany=np.mean(deaths)\n",
    "meanxlist=np.ones([m], dtype=np.uint) *meanx\n",
    "meanylist=np.ones([m], dtype=np.uint) *meany\n",
    "devx=np.subtract(dates,meanxlist)\n",
    "devy=np.subtract(deaths,meanylist)\n",
    "devprod=np.multiply(devx,devy)\n",
    "devx2=np.square(devx)\n",
    "slope=sum(devprod)/sum(devx2)\n",
    "intercept=meany-slope*meanx\n",
    "fig = plt.figure()\n",
    "ax1 = fig.add_subplot(111)\n",
    "ax1.scatter(dates,deaths)\n",
    "x = np.linspace(1,22,100)\n",
    "y = intercept+x*slope\n",
    "ax1.plot(x, y, '-r')\n",
    "plt.title('Least Square Line Fit')\n",
    "plt.xlabel('Day of May 2021')\n",
    "plt.ylabel('Deaths')\n",
    "predeaths=[0]*31\n",
    "errorsum=0\n",
    "for i in range(22,31):\n",
    "    errorsum+=pow(intercept+tlistx[i]*slope-tlisty[i],2)\n",
    "    predeaths[i]=int(round(intercept+tlistx[i]*slope))\n",
    "print(\"Mean Square error in prediction for May 23 to May 31:\",errorsum/(9))\n",
    "print('Day in May, Actual Deaths, Predicted Deaths')\n",
    "for row in zip(tlistx[22:31],tlisty[22:31], predeaths[22:31]):\n",
    "    print (''.join(str(row)))\n",
    "print(\"Predicted Deaths on April 20, 2021:\",int(round(intercept+(-10)*slope)),\", Error %:\",(int(round(intercept+(-10)*slope))-2070)*100/2070,'%')\n",
    "print(\"Predicted Deaths on June 10, 2021:\",int(round(intercept+(41)*slope)),\", Error %:\",(int(round(intercept+(41)*slope))-2067)*100/2067,'%')"
   ]
  },
  {
   "cell_type": "markdown",
   "metadata": {},
   "source": [
    "# Q5- Quadratic Fit \n",
    "## Y=w2\\*X^2 + w1\\*X +w0 where Y is deaths per day and X is day of May 2021.\n",
    "### (Using Normal Equations )"
   ]
  },
  {
   "cell_type": "code",
   "execution_count": 51,
   "metadata": {
    "colab": {
     "base_uri": "https://localhost:8080/",
     "height": 588
    },
    "id": "sGLTrIUKktMZ",
    "outputId": "c4f9eb3f-7125-4678-b6ed-4e3897b3786c"
   },
   "outputs": [
    {
     "name": "stdout",
     "output_type": "stream",
     "text": [
      "The curve is: Y= 3425.1428571428705 + 74.42151326934089 *X + -1.8410502540937905 *X^2\n",
      "Mean Square error in prediction for May 23 to May 31: 227826.77777777778\n",
      "Day in May, Actual Deaths, Predicted Deaths\n",
      "(23, 3741, 4163)\n",
      "(24, 4454, 4151)\n",
      "(25, 3511, 4135)\n",
      "(26, 4157, 4116)\n",
      "(27, 3847, 4092)\n",
      "(28, 3660, 4066)\n",
      "(29, 3617, 4035)\n",
      "(30, 3460, 4001)\n",
      "(31, 3128, 3963)\n",
      "Predicted Deaths on April 20, 2021: 2497 , Error %: 20.6280193236715 %\n",
      "Predicted Deaths on June 10, 2021: 3382 , Error %: 63.61877116594098 %\n"
     ]
    },
    {
     "data": {
      "image/png": "[encoded data removed]",
      "text/plain": [
       "<Figure size 432x288 with 1 Axes>"
      ]
     },
     "metadata": {
      "needs_background": "light"
     },
     "output_type": "display_data"
    }
   ],
   "source": [
    "y1 = listy\n",
    "x1 = listx\n",
    "xo=[1]*len(x1)\n",
    "x2=[i*i for i in x1]\n",
    "x=list(zip(xo,x1,x2))\n",
    "y=np.matrix(y1)\n",
    "x=np.matrix(x)\n",
    "y=y.transpose()\n",
    "w=np.linalg.inv(x.transpose()*x)*x.transpose()*y\n",
    "w0=w[0][0].item()\n",
    "w1=w[1][0].item()\n",
    "w2=w[2][0].item()\n",
    "fig = plt.figure()\n",
    "ax1 = fig.add_subplot(111)\n",
    "ax1.scatter(x1,y1)\n",
    "i=np.linspace(1,22,100)\n",
    "j=w2*i*i+w1*i+w0\n",
    "ax1.plot(i,j,'-r')\n",
    "predeaths=[int(round(w2*i*i+w1*i+w0)) for i in tlistx]\n",
    "print(\"The curve is: Y=\",w0,\"+\",w1,\"*X +\",w2,\"*X^2\")\n",
    "errorsum=0\n",
    "for i in range(22,31):\n",
    "    errorsum+=pow(predeaths[i]-tlisty[i],2)\n",
    "print(\"Mean Square error in prediction for May 23 to May 31:\",errorsum/(9))\n",
    "print('Day in May, Actual Deaths, Predicted Deaths')\n",
    "for row in zip(tlistx[22:31],tlisty[22:31], predeaths[22:31]):\n",
    "    print (''.join(str(row)))\n",
    "print(\"Predicted Deaths on April 20, 2021:\",int(round(w2*100-w1*10+w0)),\", Error %:\",(int(round(w2*100-w1*10+w0))-2070)*100/2070,'%')\n",
    "print(\"Predicted Deaths on June 10, 2021:\",int(round(w2*1681+w1*41+w0)),\", Error %:\",(int(round(w2*1681+w1*41+w0))-2067)*100/2067,'%')"
   ]
  },
  {
   "cell_type": "markdown",
   "metadata": {},
   "source": [
    "# Comparison\n",
    "### So we observe that the error % of quadratic fit is much better at 20% against 58% of linear fit for April 20 and at 63% against 137% of linear fit for June 10. The Mean square error for last 9 days of May 2021 is 227826 for quadratic fit as opposed to 716297 for linear fit."
   ]
  }
 ],
 "metadata": {
  "colab": {
   "name": "ML3.ipynb",
   "provenance": []
  },
  "kernelspec": {
   "display_name": "Python 3 (ipykernel)",
   "language": "python",
   "name": "python3"
  },
  "language_info": {
   "codemirror_mode": {
    "name": "ipython",
    "version": 3
   },
   "file_extension": ".py",
   "mimetype": "text/x-python",
   "name": "python",
   "nbconvert_exporter": "python",
   "pygments_lexer": "ipython3",
   "version": "3.8.11"
  }
 },
 "nbformat": 4,
 "nbformat_minor": 4
}
